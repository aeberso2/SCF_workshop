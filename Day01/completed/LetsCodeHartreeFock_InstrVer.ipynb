{
 "cells": [
  {
   "cell_type": "markdown",
   "metadata": {},
   "source": [
    "<p style=\"text-align: center;\"><span style=\"color:#262626\"><span style=\"font-size:42px\"><span style=\"font-family:lato,sans-serif\"><span style=\"font-weight:bold\">\n",
    "SCF Workshop\n",
    "</span></span></span></span></p>\n",
    "\n",
    "<p style=\"text-align: left;\"><span style=\"color:#262626\"><span style=\"font-size:18px\"><span style=\"font-family:lato,sans-serif\">\n",
    "By: Lucas Aebersold \n",
    "</span></span></span></p>\n",
    "<p style=\"text-align: left;\"><span style=\"color:#262626\"><span style=\"font-size:18px\"><span style=\"font-family:lato,sans-serif\">\n",
    "Summer 2019\n",
    "</span></span></span></p>\n",
    "<p style=\"text-align: justify;\"><span style=\"color:#262626\"><span style=\"font-size:16px\"><span style=\"font-family:lato,sans-serif\">\n",
    "In this workshop, we will be creating our very own Hartree Fock code! Now, when someone asks if you remember making your first HF code, you won't actually be lying!! Let's begin!\n",
    "</span></span></span></p>\n",
    "\n",
    "***\n",
    "\n",
    "This code and discussion are based out of *Modern Quantum Chemistry*, Introduction to Advanced Electronic Structure Theory. by Szabo and Ostlund[1]. If you don't have it, consider buying it! Order it on [Amazon](https://www.amazon.com/Modern-Quantum-Chemistry-Introduction-Electronic/dp/0486691861/ref=sr_1_5?ie=UTF8&qid=1526232742&sr=8-5&keywords=quantum+chemistry&dpID=41mbqZjAm6L&preST=_SY291_BO1,204,203,200_QL40_&dpSrc=srch), it's like \\\\$20  new, and like \\\\$5 used.\n",
    "\n",
    "You can find pdf copies too, I can show you how just ask me. \n",
    "\n",
    "\n",
    "This workshop tutorial is also based on some HF tutorials, created by the Psi4 developers, which are apart of an online repository. I suggest you check it out, and later in the tutorials, we will be using Psi4 for python \n",
    "[Psi4numpy](https://github.com/psi4/psi4numpy)\n",
    "\n",
    "Lastly, you can also check out some notes from the \n",
    "[Sherrill group](http://vergil.chemistry.gatech.edu/notes/)\n",
    "### References\n",
    "1. A. Szabo and N. S. Ostlund, *Modern Quantum Chemistry*, Introduction to Advanced Electronic Structure Theory. Courier Corporation, 1996.\n",
    "\n",
    "## The Code\n",
    "Let's import the libraries we need\n",
    "\n",
    "`Note:` I do the `*` import for numpy, which imports everything and can be called directly. In most cases, this isn't a good programming practice, but in my (our) case we are always using numpy. Also, I personally hate code that has all the `np.cos`, `np.pi`, `np.exp`, etc., it looks very unnatural and unnecessarily convoluted. But do things as you see fit and make sure the code is readable. \n",
    "\n",
    "\n",
    "**With that out of the way let's begin!!!**\n",
    "\n",
    "We will need the `numpy` and `scipy` libraries "
   ]
  },
  {
   "cell_type": "code",
   "execution_count": 1,
   "metadata": {},
   "outputs": [],
   "source": [
    "from numpy import *\n",
    "from scipy.linalg import eigh, eig, inv\n",
    "from scipy.special import erf\n",
    "from scipy.constants import physical_constants\n",
    "import os\n",
    "# conversions: atomic units to eV and bohr (a0) to angstrom\n",
    "au2eV = physical_constants['Hartree energy in eV'][0]\n",
    "bohr2ang = physical_constants['Bohr radius'][0]*1e10"
   ]
  },
  {
   "cell_type": "markdown",
   "metadata": {},
   "source": [
    "These are just printing functions I've defined for later use and you don't need to worry about what they're doing\n",
    "for the sake of understanding this tutorial. Their purpose is just to print out results in a clean and readable fashion"
   ]
  },
  {
   "cell_type": "code",
   "execution_count": 2,
   "metadata": {},
   "outputs": [],
   "source": [
    "bohr2ang = 0.529177\n",
    "# routines to print out matrices in a nice readable format\n",
    "def print_matrix(mat, header, print_file=None):\n",
    "\n",
    "    cols = mat.shape[0]\n",
    "    rows = mat.shape[1]\n",
    "\n",
    "    str_mat ='{:^{width}}\\n'.format(header, width=rows*10)\n",
    "    for i in range(cols):\n",
    "        str_mat += '{}\\n'.format(' '.join('{:> .6f}'.format(x) for x in mat[i,:]))\n",
    "    print(str_mat, file=print_file)\n",
    "    \n",
    "def print_matrix_center(mat, header, print_file=None):\n",
    "\n",
    "    cols = mat.shape[0]\n",
    "    rows = mat.shape[1]\n",
    "\n",
    "    str_mat ='{:^{width}}\\n'.format(header, width=rows*20+9)\n",
    "    for i in range(cols):\n",
    "        str_mat += '{:^{width}}\\n'.format(' '.join('{:> .6f}'.format(x) for x in mat[i,:]), width=rows*20+9)\n",
    "        \n",
    "    print(str_mat, file=print_file)\n",
    "    \n",
    "def print_matrices(mat, mat2, header, print_file=None):\n",
    "\n",
    "    cols = mat.shape[0]\n",
    "    rows = mat.shape[1]\n",
    "\n",
    "    str_mat ='{:^{width}}'.format(header[0], width=rows*9)\n",
    "    str_mat += '{:^{width}}'.format(' ', width=9)\n",
    "    str_mat +='{:^{width}}\\n'.format(header[1], width=rows*10)\n",
    "    for i in range(cols):\n",
    "        str_mat += '{}'.format(' '.join('{:> 8.6f}'.format(x) for x in mat[i,:]))\n",
    "        str_mat += '{:^{width}}'.format(' ', width=9)\n",
    "        str_mat += '{}\\n'.format(' '.join('{:> 8.6f}'.format(x) for x in mat2[i,:]))\n",
    "        \n",
    "    print(str_mat, file=print_file)\n",
    "    \n",
    "# prints vector occupation and orbital energies\n",
    "def print_diag(mat, print_file=None):\n",
    "    diag_vals = mat.diagonal()\n",
    "    nel = 2\n",
    "    str_mat ='{:^80}\\n'.format('{:^{width}}         Energy'.format('MO', width=10))\n",
    "    for i in range(len(diag_vals)):\n",
    "        str_mat += '{:^80}\\n'.format('Vector {}  Occ={}  {: .6f}'.format(i+1, nel, diag_vals[i]))\n",
    "        nel -= 2 \n",
    "    print(str_mat, file=print_file)\n",
    "    \n",
    "# prints all matrices during scf cycle\n",
    "def verbose_iter_print(print_file):\n",
    "    print('\\n{:*^80}\\n'.format(\" Iteration {:2} \".format(scf_iter + 1)), file=print_file)\n",
    "    print_matrices(F, Fprime, ['F matrix', \"F' matrix\"], print_file=print_file)\n",
    "    print_matrices(C, Cprime, ['C matrix', \"C' matrix\"], print_file=print_file)\n",
    "    print_matrix_center(P, 'P matrix', print_file=print_file)    \n",
    "    print('{:<20} = {: .11f}'.format('Electronic Energy', E), file=print_file)\n",
    "    print('{:<20} = {: .11f}'.format('Total Energy', ET), file=print_file)\n",
    "    print('Delta (Convergence of the density matrix) = {:.6e}'.format(delta), file=print_file)\n",
    "    \n",
    "def print_error_quit():\n",
    "    print('FATAL ERROR\\nGROSSE FEHLER\\nCALCULATION DID NOT CONVERGE!', file=f)\n",
    "    print_diag(Eocc, print_file=f)\n",
    "    print('{:<18} = {: .11f}'.format('Electronic Energy', E), file=f)\n",
    "    print('{:<18} = {: .11f}'.format('Total Energy', ET), file=f)\n",
    "    \n",
    "def print_convergence_success(Eocc, orthog='canonical'):\n",
    "    print('{:^80}\\n{:^80}'.format('CALCULATION CONVERGED!!!!', 'OMG!!!!!'), file=f)\n",
    "    print('{:_^80}'.format(' Final Values (atomic units) '), file=f)\n",
    "    if orthog == 'canonical':\n",
    "        print_diag(Eocc, print_file=f)\n",
    "    elif orthog == 'symmetric':\n",
    "        Eocc = Eocc*eye(2)\n",
    "        print_diag(Eocc, print_file=f)\n",
    "        \n",
    "    print('{:<18} = {: .11f}'.format('Electronic Energy', E), file=f)\n",
    "    print('{:<18} = {: .11f}'.format('Total Energy', ET), file=f)"
   ]
  },
  {
   "cell_type": "markdown",
   "metadata": {},
   "source": [
    "I've also predefined some other functions which are included in standard `SciPy` and `NumPy` libraries. \n",
    "Not all of them are used in this program, but it's good to know a little bit about what tasks they are actually doing. \n",
    "\n",
    "The `F0` will should look familiar from the presentation and notes, and you can also read about it in S&O, Appendix B. \n",
    "\n",
    "The routine to calculate the `F0` function will use Scipy's built-in `erf` routine by default. You can specify to use the alternate  `derf` routine, defined in S&O, which is a less accurate and simpler version. This is a showcase of the underlying mathematics and using this function gives the S&O results exactly.\n",
    "\n",
    "`Note:` why does the S&O routine have a d in front of the erf? It is a convention to denote the function uses `double precision` floating point numbers (15 digits of accuracy before round off), as opposed to the default `single precision` (about 7 digits of accuracy). This was/is a common practice in Fortran programs to distinguish a function from a single precision one, e.g. `sin` vs `dsin`. "
   ]
  },
  {
   "cell_type": "code",
   "execution_count": 96,
   "metadata": {},
   "outputs": [],
   "source": [
    "# this calculates the F0 function, but for only s-type orbitals (l = 0) hence F0\n",
    "def F0(arg, oldschool=False):\n",
    "    \n",
    "    if arg < 1.0e-6:\n",
    "        F0 = 1.0 - arg/3.0\n",
    "    else:\n",
    "        if oldschool:\n",
    "            F0 = sqrt(pi/arg)*derf(sqrt(arg))/2.0\n",
    "        else:\n",
    "            F0 = sqrt(pi/arg)*erf(sqrt(arg))/2.0\n",
    "    return F0\n",
    "\n",
    "def derf(arg):\n",
    "    P = 0.3275911\n",
    "    A = [0.254829592, -0.284496736, 1.421413741, -1.453152027, 1.061405429]\n",
    "    T = 1.0/(1.0 + P*arg)\n",
    "    TN = T\n",
    "    poly = A[0]*TN\n",
    "    for i in range(1, 5):\n",
    "        TN *= T\n",
    "        poly += A[i]*TN\n",
    "    derf = 1.0 - poly*exp(-arg**2)\n",
    "    \n",
    "    return derf"
   ]
  },
  {
   "cell_type": "markdown",
   "metadata": {},
   "source": [
    "## Diagonalization routine\n",
    "\n",
    "This is a specific diagonalization routine for $2\\times2$ matrices I've included the simple one as another showcase\n",
    "\n",
    "A generalized routine is Scipy/Numpy's `eigh` function which is a wrapper to the `DSYEV BLAS` routine. We will be using the generalized routine "
   ]
  },
  {
   "cell_type": "code",
   "execution_count": 97,
   "metadata": {},
   "outputs": [],
   "source": [
    "def diag(F):\n",
    "    \n",
    "    if (abs(F[0,0] - F[1,1]) > 1.0e-20):\n",
    "        \n",
    "        theta = 0.5*arctan(2*F[0,1]/(F[0,0] - F[1,1]))\n",
    "        \n",
    "    else:\n",
    "        \n",
    "        theta = pi/4\n",
    "        \n",
    "    C = array([\n",
    "        [cos(theta),  sin(theta)],\n",
    "        [sin(theta), -cos(theta)],\n",
    "    ])\n",
    "    \n",
    "    E = zeros((2,2))\n",
    "    \n",
    "    E[0,0] = F[0,0]*cos(theta)**2 + F[1,1]*sin(theta)**2 + F[0,1]*sin(2*theta)\n",
    "    E[1,1] = F[1,1]*cos(theta)**2 + F[0,0]*sin(theta)**2 - F[0,1]*sin(2*theta)\n",
    "    \n",
    "    if E[1,1] < E[0,0]:\n",
    "        \n",
    "        E[1,1], E[0,0] = E[0,0], E[1,1]\n",
    "        C[0,1], C[0,0] = C[0,0], C[0,1]\n",
    "        C[1,1], C[1,0] = C[1,0], C[1,1]\n",
    "        \n",
    "    return E, C"
   ]
  },
  {
   "cell_type": "markdown",
   "metadata": {},
   "source": [
    "## Matrix multiplication \n",
    "A showcase of the loop structure of matrix-matrix multiplication (i.e. an inner product), \n",
    "`numpy`/`scipy`'s dot will be used in its place, as these are wrappers for the `BLAS` (Basic Linear Algebra Subroutines) routines and can handle general vector-vector (Level 1) vector-matrix (level 2) and matrix-matrix (level 3) operations\n",
    "\n",
    "**Python**\n",
    "~~~python\n",
    "def mult(A, B, M):\n",
    "    C = zeros((M, M))\n",
    "    for i in range(0, M):\n",
    "        for j in range(0, M):\n",
    "            for k in range(0, M):\n",
    "                C[i,j] += A[i,k]*B[k,j]\n",
    "    return C\n",
    "~~~\n",
    "**Fortran**\n",
    "~~~fortran\n",
    "integer, parameter :: dp=selected_real_kind(15,307)\n",
    "real(dp), allocatable :: A(:,:), B(:,:), C(:,:)\n",
    "integer :: i, j, k, M\n",
    "\n",
    "allocate(C(M,M))\n",
    "allocate(A(M,M), B(M,M))\n",
    "\n",
    "do i = 1, M\n",
    "  do j = 1, M\n",
    "    do k = 1, M\n",
    "      C(i,j) = C(i,j) + A(i,k)*B(k,j)\n",
    "    end do\n",
    "  end do \n",
    "end do\n",
    "\n",
    "~~~"
   ]
  },
  {
   "cell_type": "markdown",
   "metadata": {},
   "source": [
    "### Initial Integral Functions\n",
    "\n",
    "First define the one-electron integral functions for the overlap $S$, the kinetic energy $T$ and the potential energy $V$\n",
    "\n",
    "Then define functions for the two-electron repulsion integral $V_{ee}$ and formation of the $G$ matrix"
   ]
  },
  {
   "cell_type": "code",
   "execution_count": 98,
   "metadata": {},
   "outputs": [],
   "source": [
    "# the overlap  integral for unnormalized primitives\n",
    "def S(A, B, RAB2):\n",
    "    \n",
    "    S_int = (pi/(A + B))**1.5*exp(-A*B*RAB2/(A + B))\n",
    "    \n",
    "    return S_int\n",
    "\n",
    "# the kinetic energy integrals for unnormalized primitives\n",
    "def T(A, B, RAB2):\n",
    "    \n",
    "    T_int = A*B/(A + B)*(3 - 2*A*B*RAB2/(A + B))*(pi/(A + B))**1.5*exp(-A*B*RAB2/(A + B))\n",
    "    \n",
    "    return T_int\n",
    "\n",
    "# the potential energy nuclear attraction integrals, \n",
    "# we use F0 here and this will only hold for s-type functions\n",
    "def V(A, B, RAB2, RCP2, ZC):\n",
    "    \n",
    "    V_int = 2*pi/(A + B)*F0((A + B)*RCP2)*exp(-A*B*RAB2/(A + B))\n",
    "    V_int *= -ZC\n",
    "    \n",
    "    return V_int\n",
    "\n",
    "# the two electron integral for unnormalized primitives \n",
    "# A, B, C, D are the exponents alpha, beta, etc. \n",
    "# RAB2 = squared distance bewteen center A and center B, etc. \n",
    "def twoe(A, B, C, D, RAB2, RCD2, RPQ2):\n",
    "    \n",
    "    twoe_int = (2*pi**2.5)/((A + B)*(C + D)*sqrt(A + B + C + D))\n",
    "    twoe_int *= F0((A + B)*(C + D)*RPQ2/(A + B + C + D))\n",
    "    twoe_int *= exp(-A*B*RAB2/(A + B) - C*D*RCD2/(C + D))\n",
    "    \n",
    "    return twoe_int\n",
    "\n",
    "# form the G-matrix from the electron-electron repulsion and density matrices\n",
    "def formG(P):\n",
    "    g = zeros((nel,nel))\n",
    "    for i in range(nel):\n",
    "        for j in range(nel):\n",
    "            for k in range(nel):\n",
    "                for l in range(nel):\n",
    "                    # Coulomb integral -> J\n",
    "                    g[i,j] += 2*P[k,l]*Vee[i,j,k,l]\n",
    "                    # exchange integral -> K\n",
    "                    g[i,j] -= P[k,l]*Vee[i,k,j,l]\n",
    "    return g"
   ]
  },
  {
   "cell_type": "markdown",
   "metadata": {},
   "source": [
    "Having trouble? You can uncomment the cell below and the code will be revealed!"
   ]
  },
  {
   "cell_type": "code",
   "execution_count": 99,
   "metadata": {},
   "outputs": [],
   "source": [
    "# %load integral_routines.py"
   ]
  },
  {
   "cell_type": "code",
   "execution_count": 100,
   "metadata": {},
   "outputs": [],
   "source": [
    "# f = open('.py','w')\n",
    "# code_str = '''\n",
    "# \n",
    "# '''\n",
    "# f.write(code_str)\n",
    "# f.close()"
   ]
  },
  {
   "cell_type": "markdown",
   "metadata": {},
   "source": [
    "### Setting up \n",
    "We need to set some parameters for our calculation, namely:\n",
    "* How many electrons to use \n",
    "* The positions (coordinates) of the atoms\n",
    "* What kind of atoms they are (H, He, etc.)\n",
    "* The basis set coefficients and exponents. \n",
    "\n",
    "We are going to use $\\mathrm{HeH}^+$ as the example\n",
    "### The parameters "
   ]
  },
  {
   "cell_type": "code",
   "execution_count": 101,
   "metadata": {},
   "outputs": [],
   "source": [
    "# STO-NG calc for N = 1, 2 or 3 basis functions. we will use the STO-3G basis\n",
    "N = 3  \n",
    "n = N - 1        # n is used to index the coeff/expon properly, as python arrays/lists follow the \n",
    "                 # screwy C-convention of starting at zero and going up to the half open interval\n",
    "                 # i.e. [0, 3) -> [0, 1, 2]\n",
    "\n",
    "nel = 2          # number of electrons\n",
    "R = 1.4632       # this is the He-H bond distance, in atomic units -> Bohr (a0)\n",
    "ZA = 2.0         # Atomic number for He\n",
    "ZB = 1.0         # Atomic number for H\n",
    "R2 = R*R         # the radius squared\n",
    "\n",
    "# Define nuclear repulsion energy -> it will not change throughout scf cycle \n",
    "E_nuc = ZA*ZB/R"
   ]
  },
  {
   "cell_type": "markdown",
   "metadata": {},
   "source": [
    "### The basis set\n",
    "We will set up arrays containing our basis set coefficients and exponents for the minimal STO-NG basis, for N = 1,3.  \n",
    "\n",
    "Note, the $\\zeta_1$ value for $\\mathrm{He}$ used is not the standard STO-NG scaling factor as would appear in the EMSL basis entry for the STO-3G set. We follow the discussion of S&O, and you can read a precise explanation of the origin of this other $\\zeta$ value on pg. 170. \n",
    "\n",
    "This zeta value is slightly better than the standard, we will do the calculation for S&O exponent first and later use the standard value for comparison in `Psi4` in the next tutorial. \n",
    "\n",
    "Basis sets of the STO-3G taken from EMSL. \n",
    "```\n",
    "#BASIS SET: (3s) -> [1s]\n",
    "H    S\n",
    "      3.42525091             0.15432897       \n",
    "      0.62391373             0.53532814       \n",
    "      0.16885540             0.44463454       \n",
    "#BASIS SET: (3s) -> [1s]\n",
    "He    S\n",
    "      6.36242139             0.15432897       \n",
    "      1.15892300             0.53532814       \n",
    "      0.31364979             0.44463454 \n",
    "```\n",
    "\n",
    "Also, I have some illustrative examples in this Jupyter notebook [Basis sets](Minimal_Basis_Sets.ipynb)\n",
    "You will need the `widgets` package properly configured to enjoy the full experience, but not required."
   ]
  },
  {
   "cell_type": "code",
   "execution_count": 102,
   "metadata": {},
   "outputs": [],
   "source": [
    "zeta1 = 2.0925   # Slater orbital exponent zeta for He\n",
    "# zeta2 = 1.69     # Standard orbital exponent zeta for He \n",
    "zeta2 = 1.24   # Slater orbital exponent zeta for H\n",
    "\n",
    "# these are the coefficients and exponents of the STO-NG bases\n",
    "# the exponents turn into the STO-NG basis sets for the respective\n",
    "# atom when multiplied by the appropriate zeta\n",
    "coeff_sto = array([\n",
    "    [1.000000, 0.000000, 0.000000], # STO-1G coeff\n",
    "    [0.678914, 0.430129, 0.000000], # STO-2G coeff\n",
    "    [0.444635, 0.535328, 0.154329], # STO-3G coeff\n",
    "])\n",
    "\n",
    "# alphas2 = array([0.168855, 0.623914, 3.425251])\n",
    "expon_sto = array([\n",
    "    [0.270950, 0.000000, 0.000000], # STO-1G expon\n",
    "    [0.151623, 0.851819, 0.000000], # STO-2G expon\n",
    "    [0.109818, 0.405771, 2.227660], # STO-3G expon\n",
    "])\n",
    "\n",
    "# here we scale the basis coeffs and exponents suitable for each Z\n",
    "# we are using the STO-3G basis, which is the third row (row index = 2) so we use n to take all N columns\n",
    "# remember numpy arrays can be operated on like normal numbers, i.e. w/o for loops\n",
    "\n",
    "# Atom 1 -> He\n",
    "A1 = expon_sto[n,0:N]*(zeta1**2)\n",
    "D1 = coeff_sto[n,0:N]*((2.0*A1[0:N]/pi)**0.75)\n",
    "# Atom 2 -> H\n",
    "A2 = expon_sto[n,0:N]*(zeta2**2)\n",
    "D2 = coeff_sto[n,0:N]*((2.0*A2[0:N]/pi)**0.75)\n",
    "# D and A are now the contraction coefficients and exponents \n",
    "# in terms of unnormalized primitive gaussians"
   ]
  },
  {
   "cell_type": "markdown",
   "metadata": {},
   "source": [
    "### One-electron integrals\n",
    "Initiliaze matrices for the overlap matrix, kinetic energy matrix, and potential energy matrix. Remember they are square matrices of dimension equal to the number of electrons "
   ]
  },
  {
   "cell_type": "code",
   "execution_count": 103,
   "metadata": {},
   "outputs": [],
   "source": [
    "# initialize matrices for overlap, kinetic, and potential integrals\n",
    "Smat = zeros((nel,nel))\n",
    "Tmat = zeros((nel,nel))\n",
    "Vmat = zeros((nel,nel))\n",
    "\n",
    "# Calculate the one-electron integrals: -> overlap, kinetic, and potential \n",
    "# center A is the first atom, center B the second -> origin is on A\n",
    "# sum over all N-indices for each atom \n",
    "for i in range(0, N):\n",
    "    for j in range(0, N):\n",
    "        RAP = A2[j]*R/(A1[i] + A2[j])\n",
    "        # RAP2 is squared distance between center A and center P, etc. \n",
    "        RAP2 = RAP**2\n",
    "        RBP2 = (R - RAP)**2\n",
    "        Smat[0,1]  += S(A1[i], A2[j], R2)*D1[i]*D2[j]\n",
    "        # note the symmetry, the lower off-diagonal elements are equal to the upper off-diagonal elements\n",
    "        Smat[1,0] = Smat[0,1]\n",
    "        \n",
    "        Tmat[0,0] += T(A1[i], A1[j], 0.0)*D1[i]*D1[j]\n",
    "        Tmat[0,1] += T(A1[i], A2[j],  R2)*D1[i]*D2[j]\n",
    "        Tmat[1,0] = Tmat[0,1]\n",
    "        Tmat[1,1] += T(A2[i], A2[j], 0.0)*D2[i]*D2[j]\n",
    "        \n",
    "        # Potential from atom A + potential from atom B \n",
    "        Vmat[0,0] += V(A1[i], A1[j], 0.0, 0.0, ZA)*D1[i]*D1[j]\n",
    "        Vmat[0,0] += V(A1[i], A1[j], 0.0,  R2, ZB)*D1[i]*D1[j]\n",
    "        \n",
    "        # off-diagonal nuclear attraction to center A, etc.\n",
    "        Vmat[0,1] += V(A1[i], A2[j], R2, RAP2, ZA)*D1[i]*D2[j] \n",
    "        Vmat[0,1] += V(A1[i], A2[j], R2, RBP2, ZB)*D1[i]*D2[j]\n",
    "\n",
    "        # note the symmetry, the off-diagonal elements all have the same value \n",
    "        Vmat[1,0] = Vmat[0,1]\n",
    "        \n",
    "        Vmat[1,1] += V(A2[i], A2[j], 0.0,  R2, ZA)*D2[i]*D2[j]\n",
    "        Vmat[1,1] += V(A2[i], A2[j], 0.0, 0.0, ZB)*D2[i]*D2[j]\n",
    "\n",
    "# set diagonal of Smat to one\n",
    "Smat[0,0] = 1.0\n",
    "Smat[1,1] = 1.0\n",
    "\n",
    "# create the core hamiltonian, H = T + V\n",
    "Hmat = Tmat + Vmat "
   ]
  },
  {
   "cell_type": "code",
   "execution_count": 104,
   "metadata": {},
   "outputs": [],
   "source": [
    "# %load compute_ints.py"
   ]
  },
  {
   "cell_type": "code",
   "execution_count": 105,
   "metadata": {},
   "outputs": [
    {
     "name": "stdout",
     "output_type": "stream",
     "text": [
      "        Smat        \n",
      " 1.000000  0.450770\n",
      " 0.450770  1.000000\n",
      "\n",
      "        Hmat        \n",
      "-2.652745 -1.347205\n",
      "-1.347205 -1.731828\n",
      "\n",
      "        Tmat        \n",
      " 2.164313  0.167013\n",
      " 0.167013  0.760033\n",
      "\n",
      "        Vmat        \n",
      "-4.817057 -1.514218\n",
      "-1.514218 -2.491861\n",
      "\n"
     ]
    }
   ],
   "source": [
    "# let's take a look at what Smat, Hmat, Tmat Vmat are \n",
    "print_matrix(Smat, 'Smat')\n",
    "print_matrix(Hmat, 'Hmat')\n",
    "print_matrix(Tmat, 'Tmat')\n",
    "print_matrix(Vmat, 'Vmat')"
   ]
  },
  {
   "cell_type": "markdown",
   "metadata": {},
   "source": [
    "Look at that, $S_{\\nu\\mu}$ has off diagonal elements that are between 0 and 1!"
   ]
  },
  {
   "cell_type": "markdown",
   "metadata": {},
   "source": [
    "### Two-electron integrals\n",
    "We have filled up the required one-electron integrals, now for the notorious two-electron repulsion integrals. In general there are ${N_{\\mathrm{bfn}}}^4$ two-electron integrals. In our case this would be $2^4 = 16$, however due to the inherent 8-fold symmetry, only 6 of these integrals are unique. Thus, we only need to calculate those values and fill in the rest. \n",
    "\n",
    "Another important note, we are using chemist's notation here. I believe this notation as an advantage for writing the actual code, allowing the indexing loops to easily account for the symmetery, but I don't know for sure. \n",
    "\n",
    "$$ \\left[ij | kl\\right] = \\left[kl | ij\\right] = \\left[ji | lk\\right] = \\left[lk | ji\\right] $$\n",
    "$$ \\left[ji | kl\\right] = \\left[lk | ij\\right] = \\left[ij | lk\\right] = \\left[kl | ji\\right] $$\n",
    "\n",
    "What indices do we need to use? Using these relations we can write a nice loop that figures it out. There are a few different ways to do this, below is one I made, then I found a more elegant one, but putting it here for references. "
   ]
  },
  {
   "cell_type": "code",
   "execution_count": 106,
   "metadata": {},
   "outputs": [
    {
     "name": "stdout",
     "output_type": "stream",
     "text": [
      "The 6 unique indices found are\n",
      "[[0 0 0 0]\n",
      " [1 0 0 0]\n",
      " [1 0 1 0]\n",
      " [1 1 0 0]\n",
      " [1 1 1 0]\n",
      " [1 1 1 1]]\n"
     ]
    }
   ],
   "source": [
    "from scipy.special import factorial, comb\n",
    "\n",
    "def total_uni_twoeri(n):\n",
    "    return (1/8)*n*(n + 1)*(n**2 + n + 2)\n",
    "\n",
    "n = 2\n",
    "rijindex = []\n",
    "for i in range(n):\n",
    "    for j in range(i + 1):\n",
    "        for k in range(n):\n",
    "            for l in range(k + 1):\n",
    "                ij = int(str(i) + str(j))\n",
    "                kl = int(str(k) + str(l))\n",
    "                if (ij >= kl):\n",
    "                    rijindex.append([i,j,k,l])\n",
    "    \n",
    "rijindex = array(rijindex)\n",
    "print('The {:g} unique indices found are'.format(total_uni_twoeri(n)))\n",
    "print(rijindex)"
   ]
  },
  {
   "cell_type": "code",
   "execution_count": 107,
   "metadata": {},
   "outputs": [
    {
     "name": "stdout",
     "output_type": "stream",
     "text": [
      "The 6 unique indices found are\n",
      "[[0 0 0 0]\n",
      " [1 0 0 0]\n",
      " [1 0 1 0]\n",
      " [1 1 0 0]\n",
      " [1 1 1 0]\n",
      " [1 1 1 1]]\n"
     ]
    }
   ],
   "source": [
    "n = 2\n",
    "rijindex = []\n",
    "for i in range(n):\n",
    "    for j in range(i + 1):\n",
    "        ij = i*(i + 1)/2 + j\n",
    "        for k in range(n):\n",
    "            for l in range(k + 1):\n",
    "                kl = k*(k + 1)/2 + l\n",
    "                if (ij >= kl):\n",
    "                    rijindex.append([i,j,k,l])\n",
    "    \n",
    "rijindex = array(rijindex)\n",
    "print('The {:g} unique indices found are'.format(total_uni_twoeri(n)))\n",
    "print(rijindex)"
   ]
  },
  {
   "cell_type": "code",
   "execution_count": 108,
   "metadata": {},
   "outputs": [
    {
     "name": "stdout",
     "output_type": "stream",
     "text": [
      "0 0 0 0     1.3071516076\n",
      "1 0 0 0     0.4372793253\n",
      "1 0 1 0     0.1772671220\n",
      "1 1 0 0     0.6057033663\n",
      "1 1 1 0     0.3117945704\n",
      "1 1 1 1     0.7746083600\n"
     ]
    }
   ],
   "source": [
    "# define the initial tensor for the two-electron repulsion integrals (ERI)\n",
    "Vee = zeros((nel,nel,nel,nel))\n",
    "# this is a very specific way to generate the ERI and is not generalized\n",
    "for i in range(0, N):\n",
    "    for j in range(0, N):\n",
    "        for k in range(0, N):\n",
    "            for l in range(0, N):\n",
    "                # compute R distances for each center\n",
    "                RAP = A2[i]*R/(A2[i] + A1[j])\n",
    "                RBP = R - RAP\n",
    "                RAQ = A2[k]*R/(A2[k] + A1[l])\n",
    "                RBQ = R - RAQ\n",
    "                RPQ = RAP - RAQ\n",
    "                Vee[0,0,0,0] += twoe(A1[i], A1[j], A1[k], A1[l], 0.0, 0.0,    0.0)*D1[i]*D1[j]*D1[k]*D1[l]\n",
    "                Vee[1,0,0,0] += twoe(A2[i], A1[j], A1[k], A1[l],  R2, 0.0, RAP**2)*D2[i]*D1[j]*D1[k]*D1[l]\n",
    "                Vee[1,0,1,0] += twoe(A2[i], A1[j], A2[k], A1[l],  R2,  R2, RPQ**2)*D2[i]*D1[j]*D2[k]*D1[l]\n",
    "                Vee[1,1,0,0] += twoe(A2[i], A2[j], A1[k], A1[l], 0.0, 0.0,     R2)*D2[i]*D2[j]*D1[k]*D1[l]\n",
    "                Vee[1,1,1,0] += twoe(A2[i], A2[j], A2[k], A1[l], 0.0,  R2, RBQ**2)*D2[i]*D2[j]*D2[k]*D1[l]\n",
    "                Vee[1,1,1,1] += twoe(A2[i], A2[j], A2[k], A2[l], 0.0, 0.0,    0.0)*D2[i]*D2[j]*D2[k]*D2[l]\n",
    "\n",
    "# Fill the rest of the ERI using symmetry relations \n",
    "Vee[0,1,0,0] = Vee[1,0,0,0] \n",
    "Vee[0,0,1,0] = Vee[1,0,0,0] \n",
    "Vee[0,0,0,1] = Vee[1,0,0,0]\n",
    "Vee[0,1,1,0] = Vee[1,0,1,0]\n",
    "Vee[1,0,0,1] = Vee[1,0,1,0]\n",
    "Vee[0,1,0,1] = Vee[1,0,1,0]\n",
    "Vee[0,0,1,1] = Vee[1,1,0,0]\n",
    "Vee[1,1,0,1] = Vee[1,1,1,0]\n",
    "Vee[1,0,1,1] = Vee[1,1,1,0]\n",
    "Vee[0,1,1,1] = Vee[1,1,1,0]\n",
    "# check out what the values are, just cause\n",
    "print('0 0 0 0  {: 15.10f}'.format(Vee[0,0,0,0]))\n",
    "print('1 0 0 0  {: 15.10f}'.format(Vee[1,0,0,0]))\n",
    "print('1 0 1 0  {: 15.10f}'.format(Vee[1,0,1,0]))\n",
    "print('1 1 0 0  {: 15.10f}'.format(Vee[1,1,0,0]))\n",
    "print('1 1 1 0  {: 15.10f}'.format(Vee[1,1,1,0]))\n",
    "print('1 1 1 1  {: 15.10f}'.format(Vee[1,1,1,1]))"
   ]
  },
  {
   "cell_type": "code",
   "execution_count": 109,
   "metadata": {},
   "outputs": [],
   "source": [
    "# %load twoe_tensor.py"
   ]
  },
  {
   "cell_type": "markdown",
   "metadata": {},
   "source": [
    "## Othogonalization\n",
    "Orbitals in Hartree-Fock are not orthonormal at the start, so we must orthonormalize them. \n",
    "\n",
    "I will show both schemes we discussed. \n",
    "\n",
    "### Canonical\n",
    "\n",
    "First we set up the transformation matrix in the scheme of canonical orthogonalization. \n",
    "To create our orthonormalizer $X$, I show two ways, the first way works only for $2\\times 2$ matrices\n",
    "and is shown in S&O "
   ]
  },
  {
   "cell_type": "code",
   "execution_count": 110,
   "metadata": {},
   "outputs": [
    {
     "name": "stdout",
     "output_type": "stream",
     "text": [
      "         X          \n",
      " 0.587064  0.954131\n",
      " 0.587064 -0.954131\n",
      "\n"
     ]
    }
   ],
   "source": [
    "X  = zeros((nel, nel))\n",
    "\n",
    "X[0,0] =  1.0/sqrt(2*(1.0 + Smat[0,1]))\n",
    "X[1,0] =  X[0,0]\n",
    "X[0,1] =  1.0/sqrt(2*(1.0 - Smat[0,1]))\n",
    "X[1,1] = -X[0,1]\n",
    "\n",
    "print_matrix(X, 'X')"
   ]
  },
  {
   "cell_type": "markdown",
   "metadata": {},
   "source": [
    "Let's check to see if it is orthonormal"
   ]
  },
  {
   "cell_type": "code",
   "execution_count": 111,
   "metadata": {},
   "outputs": [
    {
     "name": "stdout",
     "output_type": "stream",
     "text": [
      "    orthonormal?    \n",
      " 1.000000  0.000000\n",
      " 0.000000  1.000000\n",
      "\n"
     ]
    },
    {
     "data": {
      "text/plain": [
       "True"
      ]
     },
     "execution_count": 111,
     "metadata": {},
     "output_type": "execute_result"
    }
   ],
   "source": [
    "check_ortho = dot(X.T, dot(Smat, X))\n",
    "print_matrix(check_ortho, \"orthonormal?\")\n",
    "# Numpy's eye(n) function provides an identiy matrix with size: n x n \n",
    "allclose(check_ortho, eye(2))"
   ]
  },
  {
   "cell_type": "markdown",
   "metadata": {},
   "source": [
    "It is! Awesome!!!\n",
    "\n",
    "Now, what would happen if we wanted to generalize for cases when we didn't have two electrons?\n",
    "We can use the same `BLAS` diagonalization routine from Numpy, `eigh` as we did earlier. "
   ]
  },
  {
   "cell_type": "code",
   "execution_count": 112,
   "metadata": {},
   "outputs": [
    {
     "name": "stdout",
     "output_type": "stream",
     "text": [
      "         X          \n",
      "-0.954131  0.587064\n",
      " 0.954131  0.587064\n",
      "\n"
     ]
    }
   ],
   "source": [
    "# u is the eigenvalues and V is the eigenvectors\n",
    "u, eigvec = eigh(Smat)\n",
    "u = 1/sqrt(u)\n",
    "X = eigvec*u\n",
    "\n",
    "print_matrix(X, 'X')"
   ]
  },
  {
   "cell_type": "markdown",
   "metadata": {},
   "source": [
    "Hmm, why are the columns and rows swapped from the prior one? It has to do with how the `eigh` function is set up, and ultimately doesn't matter as the sign change is consistent."
   ]
  },
  {
   "cell_type": "code",
   "execution_count": 113,
   "metadata": {},
   "outputs": [
    {
     "name": "stdout",
     "output_type": "stream",
     "text": [
      "    orthonormal?    \n",
      " 1.000000  0.000000\n",
      " 0.000000  1.000000\n",
      "\n"
     ]
    },
    {
     "data": {
      "text/plain": [
       "True"
      ]
     },
     "execution_count": 113,
     "metadata": {},
     "output_type": "execute_result"
    }
   ],
   "source": [
    "check_ortho = dot(X.T, dot(Smat, X))\n",
    "print_matrix(check_ortho, \"orthonormal?\")\n",
    "allclose(check_ortho, eye(2))"
   ]
  },
  {
   "cell_type": "markdown",
   "metadata": {},
   "source": [
    "### Symmetric\n",
    "The second method, symmetric orthogonalization, is constructed in a similar way to canonical orthoganlization with slight variations with respect to matrix-vector operations and has an additional step."
   ]
  },
  {
   "cell_type": "code",
   "execution_count": 114,
   "metadata": {},
   "outputs": [
    {
     "name": "stdout",
     "output_type": "stream",
     "text": [
      "Symmetric orthogonalization matrix\n",
      "         A          \n",
      " 1.089790 -0.259555\n",
      "-0.259555  1.089790\n",
      "\n",
      "    orthonormal?    \n",
      " 1.000000 -0.000000\n",
      "-0.000000  1.000000\n",
      "\n"
     ]
    }
   ],
   "source": [
    "u, eigvec = eigh(Smat)\n",
    "# first we convert the eigenvalues from a 1D vector to a matrix \n",
    "U = sqrt(inv(u*eye(len(u))))\n",
    "# from this we construct it as V * U * V^t \n",
    "A = dot(eigvec, dot(U, eigvec.T))\n",
    "\n",
    "print(\"Symmetric orthogonalization matrix\")\n",
    "print_matrix(A, 'A')\n",
    "check_ortho = dot(A.T, dot(Smat, A))\n",
    "print_matrix(check_ortho, \"orthonormal?\")"
   ]
  },
  {
   "cell_type": "code",
   "execution_count": 115,
   "metadata": {},
   "outputs": [
    {
     "name": "stdout",
     "output_type": "stream",
     "text": [
      "         A          \n",
      " 1.089790 -0.259555\n",
      "-0.259555  1.089790\n",
      "\n",
      "    orthonormal?    \n",
      " 1.000000  0.000000\n",
      "-0.000000  1.000000\n",
      "\n"
     ]
    },
    {
     "data": {
      "text/plain": [
       "True"
      ]
     },
     "execution_count": 115,
     "metadata": {},
     "output_type": "execute_result"
    }
   ],
   "source": [
    "# we can be even more clever and use more built in routines \n",
    "from scipy.linalg import fractional_matrix_power\n",
    "A = fractional_matrix_power(Smat, -0.5)\n",
    "\n",
    "print_matrix(A, 'A')\n",
    "check_ortho = dot(A.T, dot(Smat, A))\n",
    "print_matrix(check_ortho, \"orthonormal?\")\n",
    "allclose(check_ortho, eye(2))"
   ]
  },
  {
   "cell_type": "markdown",
   "metadata": {},
   "source": [
    "Awesome, we now have two orthogonalizers! Let's proceed to the actual SCF cycle!!!"
   ]
  },
  {
   "cell_type": "markdown",
   "metadata": {},
   "source": [
    "## Self-Consistent Field\n",
    "\n",
    "The SCF iterations follow this procedure: \n",
    "\n",
    "#### SCF Iteration\n",
    "for each iteration do:\n",
    "1. Build Fock matrix\n",
    "    - Build the $\\mathbf{G}$ matrix from the Coulomb and Exchange terms\n",
    "    - Form the Fock matrix $\\mathbf{F}$\n",
    "2. RHF Energy\n",
    "    - Compute electronic RHF energy\n",
    "    - Compute total RHF energy\n",
    "3. Compute new orbital guess\n",
    "    - Transform Fock matrix to orthonormal AO basis $\\mathbf{F}'$ with $\\mathbf{X}$ \n",
    "    - Diagonalize $\\mathbf{F}'$ for $\\varepsilon$ and $\\mathbf{C}'$\n",
    "    - Back transform $\\mathbf{C}'$ to AO basis\n",
    "    - Form $\\mathbf{P}$ from occupied orbital slice of $\\mathbf{C}$\n",
    "4. Check change in density matrix\n",
    "    - Compare the change in $\\mathbf{P}$ from the prior run\n",
    "    - If threshold is reached exit loop\n",
    "    - Else keep going \n",
    "    \n",
    "### Now let's code it!"
   ]
  },
  {
   "cell_type": "code",
   "execution_count": 116,
   "metadata": {},
   "outputs": [
    {
     "name": "stdout",
     "output_type": "stream",
     "text": [
      "SCF Iteration  1: Energy =  1.366867140514 dP =  4.41433e-01\n",
      "SCF Iteration  2: Energy = -2.774995735620 dP =  1.39588e-01\n",
      "SCF Iteration  3: Energy = -2.859624758615 dP =  1.48309e-02\n",
      "SCF Iteration  4: Energy = -2.860655784830 dP =  1.15914e-03\n",
      "SCF Iteration  5: Energy = -2.860662127586 dP =  8.71988e-05\n",
      "Electronic Energy  = -4.227529268100\n",
      "Total Energy       = -2.860662127586\n"
     ]
    }
   ],
   "source": [
    "# Here we set our convergence criteria and max iterations\n",
    "Crit = 1.0e-4\n",
    "MaxIt = 25\n",
    "\n",
    "# this is our initial guess of the density matrix -> a bunch of zeros\n",
    "P = zeros((nel,nel))\n",
    "\n",
    "# open the output file for writing \n",
    "f = open('HeH+_scf.out', 'w')\n",
    "    \n",
    "# print out the initial density matrix to the outfile \n",
    "print_matrix(P, 'P matrix', print_file=f)\n",
    "\n",
    "# go through the iterations \n",
    "for scf_iter in range(MaxIt):\n",
    "    \n",
    "    # create the G matrix from the density matrix P\n",
    "    G = formG(P)\n",
    "    \n",
    "    # set up fock matrix as the Hamiltonian plus the G matrix\n",
    "    F = Hmat + G\n",
    "\n",
    "    # compute the electronic energy (E) and total energy (ET)\n",
    "    E = sum(P*(Hmat + F))\n",
    "    \n",
    "    # Total energy = electronic energy + nuclear repulsion energy\n",
    "    ET = E + E_nuc\n",
    "    \n",
    "    # Get F' = X^T * F * X\n",
    "    Fprime = dot(X.T, dot(F, X))\n",
    "    \n",
    "    # C' is the matrix of eigenvectors from the diagonalization, epsilon is the array of eigenvalues\n",
    "    epsilon, Cprime = diag(Fprime)\n",
    "    \n",
    "    # Get C = X * C' \n",
    "    C = dot(X, Cprime)\n",
    "\n",
    "    # copy the density matrix from the previous iteration\n",
    "    oldP = P.copy()\n",
    "    \n",
    "    # reset the current density matrix to zero and compute the new one\n",
    "    P[:,:] = 0.0\n",
    "    for i in range(nel):\n",
    "        for j in range(nel):\n",
    "            P[i,j] += C[i,0]*C[j,0]\n",
    "\n",
    "    # see how much the new density matrix has changed from the previous one\n",
    "    delta = sqrt(sum((P - oldP)**2)/4)\n",
    "    print('SCF Iteration {:2d}: Energy = {: 4.12f} dP = {: 1.5e}'.format(scf_iter+1, ET, delta))\n",
    "    \n",
    "    # print info to file\n",
    "    verbose_iter_print(f)\n",
    "    \n",
    "    # check the convergence criteria, if delta reaches the threshold the loop will exit, else it continues\n",
    "    if delta <= Crit:\n",
    "        break\n",
    "\n",
    "# the loop has exited, determine why\n",
    "# if delta is above threshold and max iterations are reached -> convergence failed\n",
    "if delta > Crit and scf_iter == MaxIt:\n",
    "    print_error_quit()\n",
    "\n",
    "# if not -> convergence succeeded!\n",
    "else:\n",
    "    print_convergence_success(epsilon)\n",
    "    \n",
    "# close the file\n",
    "f.close()\n",
    "# store the energy value for comparison \n",
    "canon_energy = ET\n",
    "# print the energies to the screen \n",
    "print('Electronic Energy  = {: .12f}'.format(E))\n",
    "print('Total Energy       = {: .12f}'.format(ET))"
   ]
  },
  {
   "cell_type": "markdown",
   "metadata": {
    "collapsed": true
   },
   "source": [
    "We can take a look inside the output file. "
   ]
  },
  {
   "cell_type": "code",
   "execution_count": 117,
   "metadata": {
    "scrolled": false
   },
   "outputs": [
    {
     "name": "stdout",
     "output_type": "stream",
     "text": [
      "      P matrix      \n",
      "\n",
      " 0.000000  0.000000\n",
      "\n",
      " 0.000000  0.000000\n",
      "\n",
      "\n",
      "\n",
      "\n",
      "\n",
      "********************************* Iteration  1 *********************************\n",
      "\n",
      "\n",
      "\n",
      "     F matrix                   F' matrix      \n",
      "\n",
      "-2.652745 -1.347205         -1.538667  0.515839\n",
      "\n",
      "-1.347205 -1.731828          0.515839 -2.439733\n",
      "\n",
      "\n",
      "\n",
      "     C matrix                   C' matrix      \n",
      "\n",
      "-0.929147 -0.625857          0.413630  0.910445\n",
      "\n",
      "-0.139833  1.111511         -0.910445  0.413630\n",
      "\n",
      "\n",
      "\n",
      "                    P matrix                     \n",
      "\n",
      "                0.863314  0.129926               \n",
      "\n",
      "                0.129926  0.019553               \n",
      "\n",
      "\n",
      "\n",
      "Electronic Energy    =  0.00000000000\n",
      "\n",
      "Total Energy         =  1.36686714051\n",
      "\n",
      "Delta (Convergence of the density matrix) = 4.414334e-01\n",
      "\n",
      "\n",
      "\n",
      "********************************* Iteration  2 *********************************\n",
      "\n",
      "\n",
      "\n",
      "     F matrix                   F' matrix      \n",
      "\n",
      "-1.390415 -0.973201         -0.170136  0.362710\n",
      "\n",
      "-0.973201 -0.742875          0.362710 -1.406043\n",
      "\n",
      "\n",
      "\n",
      "     C matrix                   C' matrix      \n",
      "\n",
      "-0.816763 -0.766752          0.262282  0.964991\n",
      "\n",
      "-0.316261  1.074704         -0.964991  0.262282\n",
      "\n",
      "\n",
      "\n",
      "                    P matrix                     \n",
      "\n",
      "                0.667102  0.258310               \n",
      "\n",
      "                0.258310  0.100021               \n",
      "\n",
      "\n",
      "\n",
      "Electronic Energy    = -4.14186287613\n",
      "\n",
      "Total Energy         = -2.77499573562\n",
      "\n",
      "Delta (Convergence of the density matrix) = 1.395882e-01\n",
      "\n",
      "\n",
      "\n",
      "********************************* Iteration  3 *********************************\n",
      "\n",
      "\n",
      "\n",
      "     F matrix                   F' matrix      \n",
      "\n",
      "-1.451398 -1.043399         -0.152938  0.362970\n",
      "\n",
      "-1.043399 -0.803395          0.362970 -1.496306\n",
      "\n",
      "\n",
      "\n",
      "     C matrix                   C' matrix      \n",
      "\n",
      "-0.803088 -0.781063          0.245191  0.969475\n",
      "\n",
      "-0.335200  1.068949         -0.969475  0.245191\n",
      "\n",
      "\n",
      "\n",
      "                    P matrix                     \n",
      "\n",
      "                0.644951  0.269195               \n",
      "\n",
      "                0.269195  0.112359               \n",
      "\n",
      "\n",
      "\n",
      "Electronic Energy    = -4.22649189913\n",
      "\n",
      "Total Energy         = -2.85962475862\n",
      "\n",
      "Delta (Convergence of the density matrix) = 1.483089e-02\n",
      "\n",
      "\n",
      "\n",
      "********************************* Iteration  4 *********************************\n",
      "\n",
      "\n",
      "\n",
      "     F matrix                   F' matrix      \n",
      "\n",
      "-1.458075 -1.050043         -0.152893  0.363034\n",
      "\n",
      "-1.050043 -0.809958          0.363034 -1.505448\n",
      "\n",
      "\n",
      "\n",
      "     C matrix                   C' matrix      \n",
      "\n",
      "-0.802005 -0.782175          0.243847  0.969814\n",
      "\n",
      "-0.336681  1.068483         -0.969814  0.243847\n",
      "\n",
      "\n",
      "\n",
      "                    P matrix                     \n",
      "\n",
      "                0.643212  0.270020               \n",
      "\n",
      "                0.270020  0.113354               \n",
      "\n",
      "\n",
      "\n",
      "Electronic Energy    = -4.22752292534\n",
      "\n",
      "Total Energy         = -2.86065578483\n",
      "\n",
      "Delta (Convergence of the density matrix) = 1.159142e-03\n",
      "\n",
      "\n",
      "\n",
      "********************************* Iteration  5 *********************************\n",
      "\n",
      "\n",
      "\n",
      "     F matrix                   F' matrix      \n",
      "\n",
      "-1.458597 -1.050554         -0.152906  0.363039\n",
      "\n",
      "-1.050554 -0.810471          0.363039 -1.506157\n",
      "\n",
      "\n",
      "\n",
      "     C matrix                   C' matrix      \n",
      "\n",
      "-0.801924 -0.782259          0.243746  0.969839\n",
      "\n",
      "-0.336792  1.068448         -0.969839  0.243746\n",
      "\n",
      "\n",
      "\n",
      "                    P matrix                     \n",
      "\n",
      "                0.643081  0.270082               \n",
      "\n",
      "                0.270082  0.113429               \n",
      "\n",
      "\n",
      "\n",
      "Electronic Energy    = -4.22752926810\n",
      "\n",
      "Total Energy         = -2.86066212759\n",
      "\n",
      "Delta (Convergence of the density matrix) = 8.719885e-05\n",
      "\n",
      "                           CALCULATION CONVERGED!!!!                            \n",
      "\n",
      "                                    OMG!!!!!                                    \n",
      "\n",
      "_________________________ Final Values (atomic units) __________________________\n",
      "\n",
      "                               MO             Energy                            \n",
      "\n",
      "                           Vector 1  Occ=2  -1.597398                           \n",
      "\n",
      "                           Vector 2  Occ=0  -0.061664                           \n",
      "\n",
      "\n",
      "\n",
      "Electronic Energy  = -4.22752926810\n",
      "\n",
      "Total Energy       = -2.86066212759\n",
      "\n"
     ]
    }
   ],
   "source": [
    "# uncomment and run cell, there will be a lot \n",
    "results = open('HeH+_scf.out','r')\n",
    "for j in results.readlines():\n",
    "    print(j)\n",
    "results.close()"
   ]
  },
  {
   "cell_type": "markdown",
   "metadata": {},
   "source": [
    "## Properties \n",
    "Our SCF cycle is done and we have our optimal wavefunction. Let's now look at what to actually do to this thing to get useful information \n",
    "\n",
    "### Charge population\n",
    "\n",
    "$P$ is the density matrix, so it should relate to the electron population via the electron density\n",
    "\n",
    "Our final $P$ and $S$ overlap matrices can give the *Muliken population*, by taking the dot product of the two. \n",
    "The factor of 2 is a result of how I coded it to be more consistent with the unrestricted HF code (which we'll cover if time allows)."
   ]
  },
  {
   "cell_type": "code",
   "execution_count": 118,
   "metadata": {},
   "outputs": [
    {
     "data": {
      "text/plain": [
       "array([1.52965248, 0.47034752])"
      ]
     },
     "execution_count": 118,
     "metadata": {},
     "output_type": "execute_result"
    }
   ],
   "source": [
    "mp = dot(2*P, Smat)\n",
    "mp.diagonal()"
   ]
  },
  {
   "cell_type": "markdown",
   "metadata": {
    "collapsed": true
   },
   "source": [
    "1. Looking specifically at the diagonal elements of this matrix, we see the values 1.53 and 0.470 (hopefully). \n",
    "2. These are representitive of the respective electron 'charges' on the He and H atom. \n",
    "- Note: finding the specific 'charge' on an atom is not straightforward as the electrons are not static, this gives an idea of where the electrons spend more of their time. \n",
    "- Also, Muliken population can be a very poor analysis method, (e.g. can predict a positive charge for oxygen in OH) and is very basis set dependent (again see Szabo and Ostlund for a more in depth discussion)."
   ]
  },
  {
   "cell_type": "markdown",
   "metadata": {},
   "source": [
    "### Orbital occupation\n",
    "\n",
    "Our final wavefunction is given as the $C$ matrix, and the orbital energies are defined as the eigenvalues obtained from this matrix.  "
   ]
  },
  {
   "cell_type": "code",
   "execution_count": 119,
   "metadata": {},
   "outputs": [
    {
     "name": "stdout",
     "output_type": "stream",
     "text": [
      "    wavefunction    \n",
      " 0.801924  0.782259\n",
      " 0.336792 -1.068448\n",
      "\n"
     ]
    }
   ],
   "source": [
    "print_matrix(-C, 'wavefunction')"
   ]
  },
  {
   "cell_type": "markdown",
   "metadata": {},
   "source": [
    "$C$ is a $2\\times2$ matrix, where the first column represents the fractions of the initial wavefunctions given to form the first molecular orbital, since only one orbital is occupied, the second column represents the virtual (unoccupied) orbital. \n",
    "\n",
    "$$ C = \\left[\\begin{matrix} \n",
    "a_1 \\phi_{\\text{He}}^a & a_2 \\phi_{\\text{He}}^a \\\\ \n",
    "b_1 \\phi_{\\text{H}}^b & b_2 \\phi_{\\text{H}}^b \\end{matrix} \\right] $$\n",
    "\n",
    "Looking at the sign we can tell the type of overlap the MO's are exhibiting\n",
    "\n",
    "Note, in S&O, their wave function is the negative of the one we get, this is due to the orthogonalizer having the columns swapped. If we go back and use the other way, we end up with their results, but again the signs are arbitrary, so it doesn't matter. I have the negative of our wavefunction printed since it reduces the total number of negative signs\n",
    "\n",
    "\\begin{align}\n",
    "\\psi_1 &= 0.801924\\phi_1 + \\phantom{-}0.336792\\phi_2 & & \\rightarrow   \\mathrm{bonding} \\\\\n",
    "\\psi_2 &= 0.782259\\phi_1 + -1.068448\\phi_2 & & \\rightarrow   \\textrm{anti-bonding}\n",
    "\\end{align}\n",
    "\n",
    "The epsilon variable is the energies of each orbital "
   ]
  },
  {
   "cell_type": "code",
   "execution_count": 120,
   "metadata": {},
   "outputs": [
    {
     "data": {
      "text/plain": [
       "array([[-1.59739785,  0.        ],\n",
       "       [ 0.        , -0.06166436]])"
      ]
     },
     "execution_count": 120,
     "metadata": {},
     "output_type": "execute_result"
    }
   ],
   "source": [
    "epsilon"
   ]
  },
  {
   "cell_type": "markdown",
   "metadata": {},
   "source": [
    "Of which we care only about the diagonal"
   ]
  },
  {
   "cell_type": "code",
   "execution_count": 121,
   "metadata": {},
   "outputs": [
    {
     "data": {
      "text/plain": [
       "array([-1.59739785, -0.06166436])"
      ]
     },
     "execution_count": 121,
     "metadata": {},
     "output_type": "execute_result"
    }
   ],
   "source": [
    "orbital_evals = epsilon.diagonal()\n",
    "orbital_evals"
   ]
  },
  {
   "cell_type": "markdown",
   "metadata": {},
   "source": [
    "We can use Koopman's theorem to determine the ionization potentials and electron affinities!"
   ]
  },
  {
   "cell_type": "code",
   "execution_count": 122,
   "metadata": {},
   "outputs": [
    {
     "name": "stdout",
     "output_type": "stream",
     "text": [
      "I.P. = 43.467 eV\n",
      "E.A. =  1.678 eV\n"
     ]
    }
   ],
   "source": [
    "IP = -orbital_evals[0]*au2eV\n",
    "print('I.P. = {:6.3f} eV'.format(IP))\n",
    "EA = -orbital_evals[1]*au2eV\n",
    "print('E.A. = {:6.3f} eV'.format(EA))"
   ]
  },
  {
   "cell_type": "markdown",
   "metadata": {},
   "source": [
    "Now let's try to generalize the scf code a bit"
   ]
  },
  {
   "cell_type": "code",
   "execution_count": 123,
   "metadata": {},
   "outputs": [],
   "source": [
    "# lets put the diagonalization all into one routine \n",
    "def diag_F(F, ndocc, orthog='canonical'):\n",
    "    \n",
    "    if orthog == 'canonical':\n",
    "        O = X\n",
    "    elif orthog == 'symmetric':\n",
    "        O = A\n",
    "\n",
    "    Fp = dot(O.T, dot(F, O))\n",
    "    \n",
    "    e, Cp = eigh(Fp)\n",
    "    \n",
    "    C = dot(O, Cp)\n",
    "\n",
    "    C_occ = C[:,:ndocc]\n",
    "    \n",
    "    # einstein summation notation!\n",
    "    # don't get too freaked out, this is equivalent to the previous loop we saw \n",
    "    P = einsum('ik,jk->ij', C_occ, C_occ)\n",
    "\n",
    "    return (C, P, e)"
   ]
  },
  {
   "cell_type": "code",
   "execution_count": 124,
   "metadata": {},
   "outputs": [
    {
     "name": "stdout",
     "output_type": "stream",
     "text": [
      "SCF Iteration  1: Energy = -2.774995735620 dP =  1.39588e-01\n",
      "SCF Iteration  2: Energy = -2.859624758615 dP =  1.48309e-02\n",
      "SCF Iteration  3: Energy = -2.860655784830 dP =  1.15914e-03\n",
      "SCF Iteration  4: Energy = -2.860662127586 dP =  8.71988e-05\n",
      "Electronic Energy  = -4.227529268100\n",
      "Total Energy       = -2.860662127586\n"
     ]
    }
   ],
   "source": [
    "Crit = 1.0e-4\n",
    "MaxIt = 25\n",
    "\n",
    "nocc = 1\n",
    "\n",
    "C, P, epsilon = diag_F(Hmat, nocc, orthog='symmetric')\n",
    "\n",
    "f = open('HeH+.sym.scf.out', 'w')\n",
    "\n",
    "print_matrix(P, 'P matrix', print_file=f)\n",
    "\n",
    "for scf_iter in range(MaxIt):\n",
    "    \n",
    "    F = Hmat + formG(P)\n",
    "\n",
    "    ET = sum(P*(Hmat + F)) + E_nuc \n",
    "\n",
    "    oldP = P.copy()\n",
    "    \n",
    "    C, P, epsilon = diag_F(F, nocc, orthog='symmetric')\n",
    "    \n",
    "    delta = sqrt(sum((P - oldP)**2)/4)\n",
    "    \n",
    "    verbose_iter_print(f)\n",
    "    \n",
    "    print('SCF Iteration {:2d}: Energy = {: 4.12f} dP = {: 1.5e}'.format(scf_iter + 1, ET, delta))\n",
    "    \n",
    "    if delta <= Crit:\n",
    "        break\n",
    "\n",
    "if delta > Crit and scf_iter == MaxIt:\n",
    "    print_error_quit()\n",
    "\n",
    "else:\n",
    "    print_convergence_success(epsilon, orthog='symmetric')\n",
    "\n",
    "f.close()\n",
    "\n",
    "symm_energy = ET\n",
    "print('Electronic Energy  = {: .12f}'.format(E))\n",
    "print('Total Energy       = {: .12f}'.format(ET))"
   ]
  },
  {
   "cell_type": "markdown",
   "metadata": {},
   "source": [
    "Let's make sure the energy values are the same, with `allclose`"
   ]
  },
  {
   "cell_type": "code",
   "execution_count": 125,
   "metadata": {},
   "outputs": [
    {
     "data": {
      "text/plain": [
       "True"
      ]
     },
     "execution_count": 125,
     "metadata": {},
     "output_type": "execute_result"
    }
   ],
   "source": [
    "allclose(canon_energy, symm_energy)"
   ]
  },
  {
   "cell_type": "markdown",
   "metadata": {},
   "source": [
    "They're the same!!!!!!!!!!!!!!!!!!!!!!!!!!!\n",
    "\n",
    "Later we will visualize this with a molden file! And if you are deathly curious, I can talk a bit about how these isosurfaces are generated and visualized."
   ]
  },
  {
   "cell_type": "markdown",
   "metadata": {},
   "source": [
    "---"
   ]
  },
  {
   "cell_type": "markdown",
   "metadata": {},
   "source": [
    "## Things to do: \n",
    "### Before next session!\n",
    "1. Look at the general scf function that can accept different parameters, i.e. $R$ values, $Z$ values, etc. \n",
    "1. Run the code that runs the scf for a series of bond distances,\n",
    "    - Look at graph the energy curve \n",
    "    - find the minimal bond distance predicted by the STO-3G\n",
    "    - look at the dissociation curve\n",
    "1. Play with the above parameters, try the same for $\\mathrm{H}_2$, do a comparison of STO-NG n=1,2,3, different exponents, etc. \n",
    "  \n",
    "### At any point to gain a deeper understanding\n",
    "1. Reading S&O figure out how to calculate the dipole moment!\n",
    "1. Using this as a base, create a CIS code\n",
    "\n",
    "## Next Session\n",
    "We will use Psi4 to generate our integrals and investiage larger systems with our SCF routine! \n",
    "* Also to get a better grip of the einsum function, look at the following equivalent ways of constructing the G matrix \n",
    "\n",
    "We can interpret einsum as for the indices `i,j,k,l` of `Vee` multiply by the indices of `k,l` of `P` and sum along the indices `i,j` from `g`\n",
    "\n",
    "Essentially, create a two index tensor from a four index tensor"
   ]
  },
  {
   "cell_type": "code",
   "execution_count": 126,
   "metadata": {},
   "outputs": [
    {
     "data": {
      "text/plain": [
       "True"
      ]
     },
     "execution_count": 126,
     "metadata": {},
     "output_type": "execute_result"
    }
   ],
   "source": [
    "# einstein summation notation!!\n",
    "def formG(P, Vee):\n",
    "    g = zeros((2,2))\n",
    "    for i in range(2):\n",
    "        for j in range(2):\n",
    "            for k in range(2):\n",
    "                for l in range(2):    \n",
    "                    g[i,j] += 2*Vee[i,j,k,l]*P[k,l]\n",
    "                    g[i,j] -= Vee[i,k,j,l]*P[k,l]\n",
    "    return g\n",
    "\n",
    "def formG2(P, Vee):\n",
    "    J = einsum('ijkl,kl->ij', Vee, P, optimize=True)\n",
    "    K = einsum('ikjl,kl->ij', Vee, P, optimize=True)\n",
    "    G = 2*J - K\n",
    "    return G\n",
    "\n",
    "allclose(formG(P, Vee), formG2(P, Vee))"
   ]
  },
  {
   "cell_type": "code",
   "execution_count": 127,
   "metadata": {},
   "outputs": [],
   "source": [
    "# here is a crude way, can be done with OOP (i.e. a class) but\n",
    "# I didn't have time to remake it\n",
    "def init_params(Rdist, ZA, ZB, zetaA, zetaB, Ntype=3):\n",
    "    \n",
    "    N = Ntype\n",
    "    n = N - 1\n",
    "    nel = 2\n",
    "    R = Rdist\n",
    "    R2 = R*R\n",
    "    zeta1 = zetaA\n",
    "    zeta2 = zetaB\n",
    "    \n",
    "    E_nuc = ZA*ZB/R\n",
    "\n",
    "    coeff_sto = array([\n",
    "        [1.000000, 0.000000, 0.000000], # STO-1G coeff\n",
    "        [0.678914, 0.430129, 0.000000], # STO-2G coeff\n",
    "        [0.444635, 0.535328, 0.154329]  # STO-3G coeff\n",
    "    ])\n",
    "\n",
    "    expon_sto = array([\n",
    "        [0.270950, 0.000000, 0.000000], # STO-1G expon\n",
    "        [0.151623, 0.851819, 0.000000], # STO-2G expon\n",
    "        [0.109818, 0.405771, 2.227660]  # STO-3G expon\n",
    "    ])\n",
    "    \n",
    "    A1 = expon_sto[n,0:N]*(zeta1**2)\n",
    "    D1 = coeff_sto[n,0:N]*((2.0*A1[0:N]/pi)**0.75)\n",
    "    \n",
    "    A2 = expon_sto[n,0:N]*(zeta2**2)\n",
    "    D2 = coeff_sto[n,0:N]*((2.0*A2[0:N]/pi)**0.75)\n",
    "\n",
    "    Smat = zeros((nel,nel))\n",
    "    Tmat = zeros((nel,nel))\n",
    "    Vmat = zeros((nel,nel))\n",
    "    \n",
    "    for i in range(0, N):\n",
    "        for j in range(0, N):\n",
    "            RAP = A2[j]*R/(A1[i] + A2[j])\n",
    "            # RAP2 is squared distance between center A and center P, etc. \n",
    "            RAP2 = RAP**2\n",
    "            RBP2 = (R - RAP)**2\n",
    "            Smat[0,1]  += S(A1[i], A2[j], R2)*D1[i]*D2[j]\n",
    "            Smat[1,0] = Smat[0,1]\n",
    "\n",
    "            Tmat[0,0] += T(A1[i], A1[j], 0.0)*D1[i]*D1[j]\n",
    "            Tmat[0,1] += T(A1[i], A2[j],  R2)*D1[i]*D2[j]\n",
    "            Tmat[1,0] = Tmat[0,1]\n",
    "            Tmat[1,1] += T(A2[i], A2[j], 0.0)*D2[i]*D2[j]\n",
    "\n",
    "            \n",
    "            Vmat[0,0] += V(A1[i], A1[j], 0.0, 0.0, ZA)*D1[i]*D1[j]\n",
    "            Vmat[0,0] += V(A1[i], A1[j], 0.0,  R2, ZB)*D1[i]*D1[j]\n",
    "            \n",
    "            Vmat[0,1] += V(A1[i], A2[j], R2, RAP2, ZA)*D1[i]*D2[j]\n",
    "            Vmat[0,1] += V(A1[i], A2[j], R2, RBP2, ZB)*D1[i]*D2[j]\n",
    "            \n",
    "            Vmat[1,0] = Vmat[0,1]\n",
    "\n",
    "            Vmat[1,1] += V(A2[i], A2[j], 0.0,  R2, ZA)*D2[i]*D2[j]\n",
    "            Vmat[1,1] += V(A2[i], A2[j], 0.0, 0.0, ZB)*D2[i]*D2[j]\n",
    "\n",
    "\n",
    "    Smat[0,0] = 1.0\n",
    "    Smat[1,1] = 1.0\n",
    "\n",
    "    Hmat = Tmat + Vmat \n",
    "\n",
    "    Vee = zeros((nel,nel,nel,nel))\n",
    "    \n",
    "    for i in range(0, N):\n",
    "        for j in range(0, N):\n",
    "            for k in range(0, N):\n",
    "                for l in range(0, N):\n",
    "                    RAP = A2[i]*R/(A2[i] + A1[j])\n",
    "                    RBP = R - RAP\n",
    "                    RAQ = A2[k]*R/(A2[k] + A1[l])\n",
    "                    RBQ = R - RAQ\n",
    "                    RPQ = RAP - RAQ\n",
    "                    Vee[0,0,0,0] += twoe(A1[i], A1[j], A1[k], A1[l], 0.0, 0.0,    0.0)*D1[i]*D1[j]*D1[k]*D1[l]\n",
    "                    Vee[1,0,0,0] += twoe(A2[i], A1[j], A1[k], A1[l],  R2, 0.0, RAP**2)*D2[i]*D1[j]*D1[k]*D1[l]\n",
    "                    Vee[1,0,1,0] += twoe(A2[i], A1[j], A2[k], A1[l],  R2,  R2, RPQ**2)*D2[i]*D1[j]*D2[k]*D1[l]\n",
    "                    Vee[1,1,0,0] += twoe(A2[i], A2[j], A1[k], A1[l], 0.0, 0.0,     R2)*D2[i]*D2[j]*D1[k]*D1[l]\n",
    "                    Vee[1,1,1,0] += twoe(A2[i], A2[j], A2[k], A1[l], 0.0,  R2, RBQ**2)*D2[i]*D2[j]*D2[k]*D1[l]\n",
    "                    Vee[1,1,1,1] += twoe(A2[i], A2[j], A2[k], A2[l], 0.0, 0.0,    0.0)*D2[i]*D2[j]*D2[k]*D2[l]\n",
    "\n",
    "    Vee[0,1,0,0] = Vee[1,0,0,0] \n",
    "    Vee[0,0,1,0] = Vee[1,0,0,0] \n",
    "    Vee[0,0,0,1] = Vee[1,0,0,0]\n",
    "    Vee[0,1,1,0] = Vee[1,0,1,0]\n",
    "    Vee[1,0,0,1] = Vee[1,0,1,0]\n",
    "    Vee[0,1,0,1] = Vee[1,0,1,0]\n",
    "    Vee[0,0,1,1] = Vee[1,1,0,0]\n",
    "    Vee[1,1,0,1] = Vee[1,1,1,0]\n",
    "    Vee[1,0,1,1] = Vee[1,1,1,0]\n",
    "    Vee[0,1,1,1] = Vee[1,1,1,0]\n",
    "    \n",
    "    return Vee, Smat, Hmat, E_nuc\n",
    "\n",
    " \n",
    "def orthogonalize(orthog, Smat):\n",
    "    if orthog == 'canonical':\n",
    "\n",
    "        u, eigvec = eigh(Smat)\n",
    "        u = 1/sqrt(u)\n",
    "        X = eigvec*u\n",
    "        \n",
    "        return X\n",
    "\n",
    "    elif orthog == 'symmetric':\n",
    "\n",
    "        u, eigvec = eigh(Smat)\n",
    "        U = sqrt(inv(u*eye(len(u))))\n",
    "        A = dot(eigvec, dot(U, eigvec.T))\n",
    "        \n",
    "        return A\n",
    "\n",
    "def diag_F(F, O, ndocc):\n",
    "    \n",
    "    Fp = dot(O.T, dot(F, O))\n",
    "\n",
    "    e, Cp = eigh(Fp)\n",
    "    \n",
    "    C = dot(O, Cp)\n",
    "    C_occ = C[:,:ndocc]\n",
    "    \n",
    "    # einstein summation notation!\n",
    "    # don't get too freaked out, this is equivalent to the previous loop we saw \n",
    "    P = einsum('ik,jk->ij', C_occ, C_occ)\n",
    "\n",
    "    return C, P, e\n",
    "\n",
    "def scf_run(Rdist, ZA, ZB, zetaA, zetaB, Ntype=3, print_iterations=None):\n",
    "    \n",
    "    Vee, Smat, Hmat, E_nuc = init_params(Rdist, ZA, ZB, zetaA, zetaB, Ntype=Ntype)\n",
    "    \n",
    "    X = orthogonalize('canonical', Smat)\n",
    "#     X = orthogonalize('symmetric', Smat)\n",
    "    Crit = 1.0e-4\n",
    "    MaxIt = 25\n",
    "\n",
    "    nocc = 1\n",
    "\n",
    "#     C, P, epsilon = diag_F(Hmat, X, nocc)\n",
    "    P = zeros((nel,nel))\n",
    "    \n",
    "    for scf_iter in range(MaxIt):\n",
    "\n",
    "        F = Hmat + formG(P, Vee)\n",
    "\n",
    "        ET = sum(P*(Hmat + F)) + E_nuc \n",
    "\n",
    "        oldP = P.copy()\n",
    "\n",
    "        C, P, epsilon = diag_F(F, X, nocc)\n",
    "\n",
    "        delta = sqrt(sum((P - oldP)**2)/4)\n",
    "        if print_iterations:\n",
    "            print('SCF Iteration {:2d}: Energy = {: 4.12f} dP = {: 1.5e}'.format(scf_iter+1, ET, delta))\n",
    "\n",
    "        if delta <= Crit:\n",
    "            break\n",
    "\n",
    "    if delta > Crit and scf_iter == MaxIt:\n",
    "        print_error_quit()\n",
    "        \n",
    "    return ET"
   ]
  },
  {
   "cell_type": "code",
   "execution_count": 135,
   "metadata": {},
   "outputs": [],
   "source": [
    "rvals = linspace(0.7, 6, 50)\n",
    "evals = zeros(len(rvals))\n",
    "\n",
    "# this function could be vectorized\n",
    "for idx, i in enumerate(rvals):\n",
    "    evals[idx] = scf_run(i, 2.0, 1.0, 2.0925, 1.24, Ntype=3, print_iterations=False)"
   ]
  },
  {
   "cell_type": "code",
   "execution_count": 136,
   "metadata": {},
   "outputs": [
    {
     "data": {
      "image/png": "[encoded data removed]",
      "text/plain": [
       "<Figure size 432x288 with 1 Axes>"
      ]
     },
     "metadata": {
      "needs_background": "light"
     },
     "output_type": "display_data"
    }
   ],
   "source": [
    "# let's plot it with some matplotlib! \n",
    "import matplotlib.pyplot as plt\n",
    "%matplotlib inline\n",
    "fig, ax = plt.subplots()\n",
    "\n",
    "ax.plot(rvals, evals, '-o', label='HeH$^+$')\n",
    "ax.set_xlabel(r'$r\\;(\\mathrm{a}_0)$',fontsize=18)\n",
    "ax.set_ylabel(r'$E\\;(E_h)$',fontsize=18)\n",
    "ax.tick_params(labelsize=15)\n",
    "ax.legend(fontsize=15)\n",
    "plt.tight_layout()\n",
    "plt.show()"
   ]
  },
  {
   "cell_type": "code",
   "execution_count": 134,
   "metadata": {},
   "outputs": [
    {
     "data": {
      "image/png": "[encoded data removed]",
      "text/plain": [
       "<Figure size 612x288 with 1 Axes>"
      ]
     },
     "metadata": {
      "needs_background": "light"
     },
     "output_type": "display_data"
    }
   ],
   "source": [
    "rvals = linspace(0.8, 7.5, 100)\n",
    "evals = zeros(len(rvals))\n",
    "\n",
    "for idx, i in enumerate(rvals):\n",
    "    evals[idx] = scf_run(i, 2.0, 1.0, 2.0925, 1.24)\n",
    "\n",
    "evals -= evals.min()\n",
    "evals *= au2eV\n",
    "rvals *= bohr2ang\n",
    "fig, ax = plt.subplots(figsize=(8.5,4))\n",
    "ax.plot(rvals, evals, '-o', ms=3, label='HeH$^+$')\n",
    "ax.set_xlabel(r'$r\\;(\\mathrm{\\AA})$', fontsize=18)\n",
    "ax.set_ylabel(r'$E\\;(\\mathrm{eV})$', fontsize=18)\n",
    "ax.tick_params(labelsize=15)\n",
    "ax.legend(fontsize=15)\n",
    "plt.tight_layout()\n",
    "plt.show()"
   ]
  },
  {
   "cell_type": "markdown",
   "metadata": {},
   "source": [
    "Wow, that's one good looking PES curve you got there kid!\n",
    "\n",
    "Slap that in a presentation and you'll be a quantum chemist in no time!"
   ]
  },
  {
   "cell_type": "markdown",
   "metadata": {},
   "source": [
    "## DIIS (Optional) \n",
    "Direct inversion of the iterative subspace or the Pulay equation \n",
    "\n",
    "Ever wonder what that `DIIS` stuff is all about? Regardless of your answer, you're going to find out.\n",
    "\n",
    "We'll first write a function that performs the DIIS extrapolation to generate a new solution vector.\n",
    "\n",
    "Recall the steps for the DIIS-accelerated algorithm\n",
    "#### DIIS within a generic SCF Iteration\n",
    "1. Compute $\\mathbf{F}$, append to list of previous trial vectors\n",
    "2. Compute AO orbital gradient$\\mathbf{r}$, append to list of previous residual vectors\n",
    "3. Compute UHF/RHF energy\n",
    "3. Check convergence criteria\n",
    "    - If RMSD of **r** sufficiently small, and\n",
    "    - If change in SCF energy sufficiently small, break\n",
    "4. Build $\\mathbf{B}$ matrix from previous AO gradient vectors\n",
    "5. Solve Pulay equation for coefficients $\\{c_i\\}$\n",
    "6. Compute DIIS solution vector `F_diis` from $\\{c_i\\}$ and previous trial vectors\n",
    "7. Compute new orbital guess with `F_diis`\n",
    "\n",
    "In our function, we will perform steps 4-6 of the above algorithm.  What information will we need to provide our function in order to do so?  To build $\\mathbf{B}$ (step 4 above) in the previous tutorial, we used:\n",
    "~~~python\n",
    "# Build B matrix\n",
    "B_dim = len(F_list) + 1\n",
    "B = empty((B_dim, B_dim))\n",
    "B[-1,:] = -1\n",
    "B[:, -1] = -1\n",
    "B[-1, -1] = 0\n",
    "for i in range(len(F_list)):\n",
    "    for j in range(len(F_list)):\n",
    "        B[i,j] = sum(diis_resid[i]*diis_resid[j])\n",
    "~~~\n",
    "We must have all previous DIIS residual vectors (`diis_resid`), as well how many previous trial vectors there are (for the dimension of $\\mathbf{B}$).\n",
    "\n",
    "To solve the Pulay equation (step 5 above):\n",
    "~~~python\n",
    "# Build RHS of Pulay equation \n",
    "rhs = zeros((B_dim))\n",
    "rhs[-1] = -1 \n",
    "      \n",
    "# Solve Pulay equation for c_i's with NumPy solve routine\n",
    "coeff = linalg.solve(B, rhs)\n",
    "~~~\n",
    "For this step, we only need the dimension of $\\mathbf{B}$ (which we computed in step 4 above) and the `linalg.solve` routine from numpy/scipy, so this step doesn't require any additional arguments.  Finally, to build the DIIS Fock matrix (step 6):\n",
    "~~~python\n",
    "# Build DIIS Fock matrix\n",
    "F_diis = zeros_like(F_list[0])\n",
    "for ix in range(coeff.shape[0] - 1):\n",
    "    F_diis += coeff[ix]*F_list[ix]\n",
    "return F_diis\n",
    "~~~\n",
    "For this step, we need to know all the previous trial vectors (`F_list`) and the coefficients generated in the previous step. In the cell below, we'll write a funciton `diis_extrap()` according to the diis procedure, steps 4-6, with the above code snippets. We are essentially taking a previous list of trial vectors, `F_list` and residual vectors `diis_resid`and returning the new DIIS solution vector `F_diis`. "
   ]
  },
  {
   "cell_type": "code",
   "execution_count": 59,
   "metadata": {},
   "outputs": [],
   "source": [
    "def diis_extrap(F_list, diis_resid):\n",
    "    B_dim = len(F_list) + 1\n",
    "    B = empty((B_dim, B_dim))\n",
    "    B[-1,:] = -1\n",
    "    \n",
    "    B[ :,-1] = -1\n",
    "    B[-1,-1] =  0\n",
    "    \n",
    "    for i in range(len(F_list)):\n",
    "        for j in range(len(F_list)):\n",
    "            B[i,j] = sum(diis_resid[i]*diis_resid[j])\n",
    "            \n",
    "    rhs = zeros((B_dim))\n",
    "    rhs[-1] = -1 \n",
    "    coeff = linalg.solve(B, rhs)\n",
    "    \n",
    "    F_diis = zeros_like(F_list[0])\n",
    "    for ix in range(coeff.shape[0] - 1):\n",
    "        F_diis += coeff[ix]*F_list[ix]\n",
    "    \n",
    "    return F_diis"
   ]
  },
  {
   "cell_type": "markdown",
   "metadata": {},
   "source": [
    "Now, let's throw this into our SCF routine, and see what it is cabable of. Let's also define some additional convergence criteria as well, based on the change in energy and our DIIS vector. "
   ]
  },
  {
   "cell_type": "code",
   "execution_count": 60,
   "metadata": {},
   "outputs": [
    {
     "name": "stdout",
     "output_type": "stream",
     "text": [
      "SCF Iteration  1: Energy = -2.774995735620 dE = -2.77500e+00 dRMS = 1.79682e-01\n",
      "SCF Iteration  2: Energy = -2.859624758615 dE = -8.46290e-02 dRMS = 2.13677e-02\n",
      "SCF Iteration  3: Energy = -2.860655784830 dE = -1.03103e-03 dRMS = 1.68539e-03\n",
      "SCF Iteration  4: Energy = -2.860662127586 dE = -6.34276e-06 dRMS = 1.26875e-04\n",
      "\n",
      "Total SCF Energy   = -2.860662127586\n"
     ]
    }
   ],
   "source": [
    "MaxIt = 25\n",
    "\n",
    "# convergence of the dRMS\n",
    "D_conv = 1.0e-3\n",
    "# convergence of the energy \n",
    "E_conv = 1.0e-5\n",
    "\n",
    "E_old = 0.0 \n",
    "# create empty lists for the diis \n",
    "F_list = []\n",
    "R_list = [] \n",
    "diis_resid = [] \n",
    "\n",
    "nocc = 1\n",
    "C, P, epsilon = diag_F(Hmat, nocc)\n",
    "\n",
    "for scf_iter in range(MaxIt):\n",
    "    \n",
    "    F = Hmat + formG(P)\n",
    "    # form this intermediate M for the sake of readability\n",
    "    M = dot(F, dot(P, Smat)) - dot(Smat, dot(P, F))\n",
    "    diis_r = dot(X, dot(M, X))\n",
    "    # append F and diis_r to lists\n",
    "    F_list.append(F)\n",
    "    R_list.append(diis_r)\n",
    "    \n",
    "    ET = sum(P*(Hmat + F)) + E_nuc\n",
    "\n",
    "    C, P, epsilon = diag_F(F, nocc)\n",
    "    \n",
    "    if scf_iter >= 2:\n",
    "        F = diis_extrap(F_list, R_list)\n",
    "        \n",
    "    dE = ET - E_old\n",
    "    dRMS = sqrt(mean(diis_r**2))\n",
    "    \n",
    "    print('SCF Iteration {:2d}: Energy = {: 4.12f} dE = {: 1.5e} dRMS = {:1.5e}'.format(scf_iter+1, ET, dE, dRMS))\n",
    "    \n",
    "    if (abs(dE) < E_conv) and (dRMS < D_conv):\n",
    "        break\n",
    "    \n",
    "    E_old = ET\n",
    "\n",
    "# print the energies to the screen \n",
    "diis_energy = ET\n",
    "print('\\nTotal SCF Energy   = {: .12f}'.format(ET))"
   ]
  },
  {
   "cell_type": "markdown",
   "metadata": {},
   "source": [
    "Check to see if this result is the same as the previous"
   ]
  },
  {
   "cell_type": "code",
   "execution_count": 61,
   "metadata": {
    "scrolled": true
   },
   "outputs": [
    {
     "data": {
      "text/plain": [
       "True"
      ]
     },
     "execution_count": 61,
     "metadata": {},
     "output_type": "execute_result"
    }
   ],
   "source": [
    "allclose(diis_energy, canon_energy)"
   ]
  },
  {
   "cell_type": "markdown",
   "metadata": {},
   "source": [
    "Wow! We saved 0 steps! The savings are not yet evident, this is after all a two electron system. But trust me and trust literature too, diis helps. \n",
    "\n",
    "---"
   ]
  }
 ],
 "metadata": {
  "anaconda-cloud": {},
  "kernelspec": {
   "display_name": "Python 3",
   "language": "python",
   "name": "python3"
  },
  "language_info": {
   "codemirror_mode": {
    "name": "ipython",
    "version": 3
   },
   "file_extension": ".py",
   "mimetype": "text/x-python",
   "name": "python",
   "nbconvert_exporter": "python",
   "pygments_lexer": "ipython3",
   "version": "3.7.3"
  }
 },
 "nbformat": 4,
 "nbformat_minor": 1
}
