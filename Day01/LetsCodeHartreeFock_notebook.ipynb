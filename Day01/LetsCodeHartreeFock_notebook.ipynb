{
 "cells": [
  {
   "cell_type": "markdown",
   "metadata": {},
   "source": [
    "<p style=\"text-align: center;\"><span style=\"color:#262626\"><span style=\"font-size:42px\"><span style=\"font-family:lato,sans-serif\">\n",
    "**SCF Workshop**\n",
    "</span></span></span></p>"
   ]
  },
  {
   "cell_type": "markdown",
   "metadata": {},
   "source": [
    "<p style=\"text-align: left;\"><span style=\"color:#262626\"><span style=\"font-size:18px\"><span style=\"font-family:lato,sans-serif\">\n",
    "**By:** Lucas Aebersold \n",
    "</span></span></span></p>\n",
    "<p style=\"text-align: left;\"><span style=\"color:#262626\"><span style=\"font-size:18px\"><span style=\"font-family:lato,sans-serif\">\n",
    "Summer 2018\n",
    "</span></span></span></p>\n",
    "<p style=\"text-align: justify;\"><span style=\"color:#262626\"><span style=\"font-size:16px\"><span style=\"font-family:lato,sans-serif\">\n",
    "In this workshop we will be creating our very own Hartree Fock code! Now, when someone asks if you remember making your first HF code, you won't actually be lying!! Let's begin!\n",
    "</span></span></span></p>\n",
    "***\n"
   ]
  },
  {
   "cell_type": "markdown",
   "metadata": {},
   "source": [
    "This code and discussion is based from Chapter 3. and the code is inspired from the Fortran IV code given in Appendix B. of the sacred text on Quantum Chemistry: *Modern Quantum Chemistry*, Introduction to Advanced Electronic Structure Theory. by Szabo and Ostlund[1], Which if you don't have, go and get it! Order it of off  [Amazon](https://www.amazon.com/Modern-Quantum-Chemistry-Introduction-Electronic/dp/0486691861/ref=sr_1_5?ie=UTF8&qid=1526232742&sr=8-5&keywords=quantum+chemistry&dpID=41mbqZjAm6L&preST=_SY291_BO1,204,203,200_QL40_&dpSrc=srch), it's like 20\\$ new, and like 5\\$ used.\n",
    "I have pdf copies too, which most of you have access to, but if you don't have physical copy, it will be hard for people to take you serious in the field of quantum chemistry. \n",
    "\n",
    "This workshop tutorial is also based on some of the HF tutorials created by the Psi4 developers, in their psi4numpy python package. I suggest you check it out, and later in the tutorials we will be using this package. \n",
    "[Psi4numpy](https://github.com/psi4/psi4numpy)\n",
    "### References\n",
    "1. A. Szabo and N. S. Ostlund, *Modern Quantum Chemistry*, Introduction to Advanced Electronic Structure Theory. Courier Corporation, 1996."
   ]
  },
  {
   "cell_type": "markdown",
   "metadata": {},
   "source": [
    "Let's import the libraries we need\n",
    "\n",
    "I do the `*` import for numpy, which imports everything and can be called directly. In most cases this isn't a good programming practice, but in my (our) case we are never not using numpy. I also absolutely hate code that has all those freaking np.cos, np.pi, np.exp, it looks very unnatural and unnecessarily convoluted, and doesn't match up to other codes very well, e.g. fortran, C, etc. \n",
    "Will there be compatibility issues with other libraries? Probably some obscure ones, definitely the `random` library, but why are you using the random library when you can just use the one in numpy? Generally, only with `SymPy` will I ever use the `import numpy as np`, else I import it all."
   ]
  },
  {
   "cell_type": "code",
   "execution_count": 1,
   "metadata": {
    "collapsed": true
   },
   "outputs": [],
   "source": [
    "from numpy import *\n",
    "from scipy.linalg import eigh, eig, inv\n",
    "from scipy.special import erf\n",
    "from scipy.constants import physical_constants\n",
    "au2eV = physical_constants['Hartree energy in eV'][0]\n",
    "bohr2ang = physical_constants['Bohr radius'][0]*1e10"
   ]
  },
  {
   "cell_type": "markdown",
   "metadata": {},
   "source": [
    "Ok, these are just printing functions I've defined for later. You don't have to worry about what they're doing\n",
    "for the sake of understanding this tutorial, they are just here to print out the results in a clean and readable fashion"
   ]
  },
  {
   "cell_type": "code",
   "execution_count": 2,
   "metadata": {
    "collapsed": true
   },
   "outputs": [],
   "source": [
    "bohr2ang = 0.529177\n",
    "# prints nice form of matrix \n",
    "def print_matrix(mat, header, print_file=None):\n",
    "\n",
    "    cols = mat.shape[0]\n",
    "    rows = mat.shape[1]\n",
    "\n",
    "    str_mat ='{:^{width}}\\n'.format(header, width=rows*10)\n",
    "    for i in range(cols):\n",
    "        str_mat += '{}\\n'.format(' '.join('{:> .6f}'.format(x) for x in mat[i, :]))\n",
    "    print(str_mat, file=print_file)\n",
    "    \n",
    "def print_matrix_center(mat, header, print_file=None):\n",
    "\n",
    "    cols = mat.shape[0]\n",
    "    rows = mat.shape[1]\n",
    "\n",
    "    str_mat ='{:^{width}}\\n'.format(header, width=rows*20+9)\n",
    "    for i in range(cols):\n",
    "        str_mat += '{:^{width}}\\n'.format(' '.join('{:> .6f}'.format(x) for x in mat[i, :]), width=rows*20+9)\n",
    "    print(str_mat, file=print_file)\n",
    "    \n",
    "def print_matrices(mat, mat2, header, print_file=None):\n",
    "\n",
    "    cols = mat.shape[0]\n",
    "    rows = mat.shape[1]\n",
    "\n",
    "    str_mat ='{:^{width}}'.format(header[0], width=rows*9)\n",
    "    str_mat += '{:^{width}}'.format(' ', width=9)\n",
    "    str_mat +='{:^{width}}\\n'.format(header[1], width=rows*10)\n",
    "    for i in range(cols):\n",
    "        str_mat += '{}'.format(' '.join('{:> 8.6f}'.format(x) for x in mat[i, :]))\n",
    "        str_mat += '{:^{width}}'.format(' ', width=9)\n",
    "        str_mat += '{}\\n'.format(' '.join('{:> 8.6f}'.format(x) for x in mat2[i, :]))\n",
    "    print(str_mat, file=print_file)\n",
    "    \n",
    "# prints vector occupation and orbital energies\n",
    "def print_diag(mat, print_file=None):\n",
    "    diag_vals = mat.diagonal()\n",
    "    nel = 2\n",
    "    str_mat ='{:^80}\\n'.format('{:^{width}}         Energy'.format('MO', width=10))\n",
    "    for i in range(len(diag_vals)):\n",
    "        str_mat += '{:^80}\\n'.format('Vector {}  Occ={}  {: .6f}'.format(i+1, nel, diag_vals[i]))\n",
    "        nel -= 2 \n",
    "    print(str_mat, file=print_file)\n",
    "    \n",
    "# prints all matrices during scf cycle\n",
    "def verbose_iter_print(print_file):\n",
    "    print('{:*^80}\\n'.format(\" Iteration {:2} \".format(scf_iter + 1)), file=print_file)\n",
    "    print_matrices(F, Fprime, ['F matrix', \"F' matrix\"], print_file=print_file)\n",
    "    print_matrices(C, Cprime, ['C matrix', \"C' matrix\"], print_file=print_file)\n",
    "    print_matrix_center(P, 'P matrix', print_file=print_file)    \n",
    "    print('{:<20} = {: .11f}'.format('Electronic Energy', E), file=print_file)\n",
    "    print('{:<20} = {: .11f}'.format('Total Energy', ET), file=print_file)\n",
    "    print('Delta (Convergence of the density matrix) = {:.6e}'.format(delta), file=print_file)\n",
    "    \n",
    "def print_error_quit():\n",
    "    print('FATAL ERROR\\nGROSSE FEHLER\\nCALCULATION DID NOT CONVERGE!', file=f)\n",
    "    print_diag(Eocc, print_file=f)\n",
    "    print('{:<18} = {: .11f}'.format('Electronic Energy', E), file=f)\n",
    "    print('{:<18} = {: .11f}'.format('Total Energy', ET), file=f)\n",
    "    \n",
    "def print_convergence_success(Eocc, orthog='canonical'):\n",
    "    print('{:^80}\\n{:^80}'.format('CALCULATION CONVERGED!!!!', 'OMG!!!!!'), file=f)\n",
    "    print('{:_^80}'.format(' Final Values (atomic units) '), file=f)\n",
    "    if orthog == 'canonical':\n",
    "        print_diag(Eocc, print_file=f)\n",
    "    elif orthog == 'symmetric':\n",
    "        Eocc = Eocc*eye(2)\n",
    "        print_diag(Eocc, print_file=f)\n",
    "        \n",
    "    print('{:<18} = {: .11f}'.format('Electronic Energy', E), file=f)\n",
    "    print('{:<18} = {: .11f}'.format('Total Energy', ET), file=f)"
   ]
  },
  {
   "cell_type": "markdown",
   "metadata": {},
   "source": [
    "I've also predefined these functions as they are usually intrinsic routines available in most programming languages. \n",
    "Not all of them are used in this program, but it's good to know a little bit about what tasks they are actually doing. \n",
    "\n",
    "The `F0` will should look familiar from my presentation and notes. "
   ]
  },
  {
   "cell_type": "code",
   "execution_count": 3,
   "metadata": {
    "collapsed": true
   },
   "outputs": [],
   "source": [
    "# this calculates the F0 function, but for only s-type orbitals (l = 0) hence F0 \n",
    "# two options, see next function for description\n",
    "def F0(arg, oldskool=False):\n",
    "    if arg < 1.0e-6:\n",
    "        F0 = 1.0 - arg/3.0\n",
    "    else:\n",
    "        if oldskool:\n",
    "            F0 = sqrt(pi/arg)*derf(sqrt(arg))/2.0\n",
    "        else:\n",
    "            F0 = sqrt(pi/arg)*erf(sqrt(arg))/2.0\n",
    "    return F0"
   ]
  },
  {
   "cell_type": "markdown",
   "metadata": {},
   "source": [
    "A routine to calculate the `F0` function using either scipy's built in erf routine or the derf routine, defined in S&O, using this function you'll get their results exactly.\n",
    "Otherwise the `F0` function calls scipy's erf routine which gives a slightly lower energy value\n",
    "due to the better calculation scheme used.\n",
    "\n",
    "Note: why does the Szabo and Ostlund routine have a d in front? It stands for 'double precision', a common thing in early fortran programs to distinguish the function from a single precision one. Precision indicating how many decimal places are used in the calculation, look up floating point operations for more info. "
   ]
  },
  {
   "cell_type": "code",
   "execution_count": 4,
   "metadata": {
    "collapsed": true
   },
   "outputs": [],
   "source": [
    "def derf(arg):\n",
    "    P = 0.3275911\n",
    "    A = [0.254829592, -0.284496736, 1.421413741, -1.453152027, 1.061405429]\n",
    "    T = 1.0/(1.0 + P*arg)\n",
    "    TN = T\n",
    "    poly = A[0]*TN\n",
    "    for i in range(1, 5):\n",
    "        TN *= T\n",
    "        poly += A[i]*TN\n",
    "    derf = 1.0 - poly*exp(-arg**2)\n",
    "    return derf"
   ]
  },
  {
   "cell_type": "markdown",
   "metadata": {},
   "source": [
    "Diagonalization routine, specific for two-by-two matrices\n",
    "An alternative is to use numpy's eigh function which is a wrapper to the DYSEV BLAS routine\n",
    "This is to show the inner workings of the function so you have a better idea of what everything is doing"
   ]
  },
  {
   "cell_type": "code",
   "execution_count": null,
   "metadata": {
    "collapsed": true
   },
   "outputs": [],
   "source": [
    "def diag(F):\n",
    "    \n",
    "    if (abs(F[0,0] - F[1,1]) > 1.0e-20):\n",
    "        theta = 0.5*arctan(2*F[0,1]/(F[0,0] - F[1,1]))\n",
    "    else:\n",
    "        theta = pi/4\n",
    "        \n",
    "    C = array([\n",
    "        [cos(theta),  sin(theta)],\n",
    "        [sin(theta), -cos(theta)]\n",
    "    ])\n",
    "    \n",
    "    E = zeros((2,2))\n",
    "    E[0,0] = F[0,0]*cos(theta)**2 + F[1,1]*sin(theta)**2 + F[0,1]*sin(2*theta)\n",
    "    E[1,1] = F[1,1]*cos(theta)**2 + F[0,0]*sin(theta)**2 - F[0,1]*sin(2*theta)\n",
    "\n",
    "    if E[1,1] < E[0,0]:\n",
    "        \n",
    "        E[1,1], E[0,0] = E[0,0], E[1,1]\n",
    "        C[0,1], C[0,0] = C[0,0], C[0,1]\n",
    "        C[1,1], C[1,0] = C[1,0], C[1,1]\n",
    "\n",
    "    return  E, C"
   ]
  },
  {
   "cell_type": "markdown",
   "metadata": {},
   "source": [
    "A showcase of the loop structure of matrix-matrix multiplication (i.e. an inner product), \n",
    "numpy/scipy's dot will be used in its place, as these are wrappers for the BLAS (Basic Linear Algebra Subroutines) routines and can handle general vector-vector (Level 1) vector-matrix (level 2) and matrix-matrix (level 3) operations"
   ]
  },
  {
   "cell_type": "code",
   "execution_count": null,
   "metadata": {
    "collapsed": true
   },
   "outputs": [],
   "source": [
    "def mult(A, B, M):\n",
    "    C = zeros((M, M))\n",
    "    for i in range(0, M):\n",
    "        for j in range(0, M):\n",
    "            for k in range(0, M):\n",
    "                C[i,j] += A[i,k]*B[k,j]\n",
    "    return C"
   ]
  },
  {
   "cell_type": "markdown",
   "metadata": {},
   "source": [
    "Now we begin \n",
    "\n",
    "We first define some functions for the overlap $S$, the kinetic energy $T$ and the potential energy $V$. Then also the two-electron repulsion integral $V_{ee}$ and a way to form our $G$ matrix."
   ]
  },
  {
   "cell_type": "code",
   "execution_count": null,
   "metadata": {
    "collapsed": true
   },
   "outputs": [],
   "source": [
    "# the overlap  integral for unnormalized primitives\n",
    "def S(A, B, RAB2):\n",
    "#     S = ...\n",
    "    S = (pi/(A + B))**1.5*exp(-A*B*RAB2/(A + B))\n",
    "    return S\n",
    "\n",
    "# the kinetic energy integrals for unnormalized primitives\n",
    "def T(A, B, RAB2):\n",
    "#     T = ...\n",
    "    return T\n",
    "\n",
    "# the potential energy nuclear attraction integrals, we use F0 here and this will only hold for s-type functions\n",
    "def V(A, B, RAB2, RCP2, ZC):\n",
    "#     V = ...\n",
    "\n",
    "    return V\n",
    "\n",
    "# the two electron integral for unnormalized primitives \n",
    "# A, B, C, D are the exponents alpha, beta, etc. \n",
    "# RAB2 = squared distance bewteen center A and center B, etc. \n",
    "# Again, F0 is used so DON'T USE IT FOR P-orbitals!!\n",
    "def twoe(A, B, C, D, RAB2, RCD2, RPQ2):\n",
    "#     Nfac = ...\n",
    "#     twoe = ...'\n",
    "    return twoe\n",
    "\n",
    "# form the G-matrix from the electron-electron repulsion and density matrices\n",
    "def formG(P):\n",
    "    g = zeros((nel,nel))\n",
    "    # four index loop\n",
    "    \n",
    "    return g"
   ]
  },
  {
   "cell_type": "markdown",
   "metadata": {},
   "source": [
    "### Setting up \n",
    "Ok, let's set up the parameters for the calculations. We need to tell it \n",
    "* How many electrons to use, \n",
    "* The positions of the atoms, \n",
    "* What kind of atoms they are \n",
    "* And lastly the basis set coefficients and exponents. \n",
    "\n",
    "### The parameters "
   ]
  },
  {
   "cell_type": "code",
   "execution_count": null,
   "metadata": {
    "collapsed": true
   },
   "outputs": [],
   "source": [
    "# STO-NG calc for N = 1, 2 or 3. we will use the STO-3G basis\n",
    "N = 3  \n",
    "n = N - 1        # n is used to index the coeff/expon properly, as python arrays/lists follow the \n",
    "                 # screwy C-convention of starting at zero and going up to the half open interval\n",
    "                 # i.e. [0, 3) -> [0, 1, 2]\n",
    "        \n",
    "nel = 2          # number of electrons -> two\n",
    "R = 1.4632       # this is the He-H bond distance, in Bohr\n",
    "\n",
    "ZA = 2.0         # Atomic number for He\n",
    "ZB = 1.0         # Atomic number for H\n",
    "R2 = R*R         # the radius squared\n",
    "\n",
    "# Define nuclear repulsion energy -> it will not change throughout scf cycle \n",
    "E_nuc = ..."
   ]
  },
  {
   "cell_type": "markdown",
   "metadata": {},
   "source": [
    "### The basis set\n",
    "We will set up arrays containing our basis set coefficients and basis set exponents for the STO-NG parameters. "
   ]
  },
  {
   "cell_type": "markdown",
   "metadata": {},
   "source": [
    "Note, the $\\zeta_1$ value for He used is not the standard STO-NG scaling factor as would appear in the EMSL basis entry for the STO-3G set. We follow the discussion of S&O, and you can read a precise explanation of the origin of this other $\\zeta$ value on pg 170 of S&O \n",
    "\n",
    "We will find this zeta value is slightly better than the standard, we will do the calculation for S&O exponent first  and later use the standard value for comparison in Psi4. \n",
    "\n",
    "Basis sets of the STO-3G taken from EMSL. \n",
    "```\n",
    "#BASIS SET: (3s) -> [1s]\n",
    "H    S\n",
    "      3.42525091             0.15432897       \n",
    "      0.62391373             0.53532814       \n",
    "      0.16885540             0.44463454       \n",
    "#BASIS SET: (3s) -> [1s]\n",
    "He    S\n",
    "      6.36242139             0.15432897       \n",
    "      1.15892300             0.53532814       \n",
    "      0.31364979             0.44463454 \n",
    "```\n",
    "\n",
    "Now, I have some illustrative examples in this Jupyter notebook [Basis sets](Minimal_Basis_Sets.ipynb)\n",
    "You will need widgets properly configured to enjoy the full experience, but if you are technilogically challenged \n",
    "and cannot configure ipython widgets properly, than you don't deserve the full experience. "
   ]
  },
  {
   "cell_type": "code",
   "execution_count": null,
   "metadata": {
    "collapsed": true
   },
   "outputs": [],
   "source": [
    "zeta1 = 2.0925   # Slater orbital exponent zeta for He\n",
    "# zeta1 = 1.69 # Standard orbital exponent zeta for He \n",
    "zeta2 = 1.24     # Slater orbital exponent zeta for H\n",
    "\n",
    "# these are the coefficients and exponents of the STO-NG bases\n",
    "# the exponents turn into the STO-NG basis sets for the respective\n",
    "# atom when multiplied by the appropriate zeta\n",
    "coeff_sto = array([\n",
    "    [1.000000, 0.000000, 0.000000], # STO-1G coeff\n",
    "    [0.678914, 0.430129, 0.000000], # STO-2G coeff\n",
    "    [0.444635, 0.535328, 0.154329]  # STO-3G coeff\n",
    "])\n",
    "\n",
    "# alphas2 = array([0.168855, 0.623914, 3.425251])\n",
    "expon_sto = array([\n",
    "    [0.270950, 0.000000, 0.000000], # STO-1G expon\n",
    "    [0.151623, 0.851819, 0.000000], # STO-2G expon\n",
    "    [0.109818, 0.405771, 2.227660]  # STO-3G expon\n",
    "])\n",
    "\n",
    "# here we scale the basis coeffs and exponents suitable for each Z\n",
    "# we are using the STO-3G basis, which is the third row (row index = 2) so we use n to take all N columns\n",
    "# remember numpy arrays can be operated on like normal numbers, i.e. w/o loops\n",
    "\n",
    "# Atom 1 -> He\n",
    "A1 = \n",
    "D1 = \n",
    "\n",
    "# Atom 2 -> H\n",
    "A2 = \n",
    "D2 = \n",
    "# D and A are now the contraction coefficients and exponents in terms of unnormalized primitive gaussians"
   ]
  },
  {
   "cell_type": "markdown",
   "metadata": {},
   "source": [
    "### One-electron integrals\n",
    "Initiliaze matrices for the overlap matrix, kinetic energy matrix, and potential energy matrix. Remember they are square matrices of dimension equal to the number of electrons "
   ]
  },
  {
   "cell_type": "code",
   "execution_count": null,
   "metadata": {
    "collapsed": true
   },
   "outputs": [],
   "source": [
    "Smat = zeros((nel, nel))\n",
    "Tmat = zeros((nel, nel))\n",
    "Vmat = zeros((nel, nel))\n",
    "\n",
    "# Calculate the one-electron integrals: -> overlap, kinetic, and potential \n",
    "# center A is the first atom, center B the second -> origin is on A\n",
    "# sum over all N-indices for each atom \n",
    "for i in range(0, N):\n",
    "    for j in range(0, N):\n",
    "        \n",
    "        RAP = \n",
    "        # RAP2 is squared distance between center A and center P, etc. \n",
    "        \n",
    "        RAP2 = \n",
    "        RBP2 = \n",
    "        Smat[0,1] += \n",
    "        Smat[1,0] = \n",
    "        \n",
    "        Tmat[0,0] += \n",
    "        Tmat[0,1] += \n",
    "        Tmat[1,0] = \n",
    "        Tmat[1,1] += \n",
    "        \n",
    "        # Potential from atom A + potential from atom B \n",
    "        Vmat[0,0] += \n",
    "        Vmat[0,0] += \n",
    "        \n",
    "        # off-diagonal nuclear attraction to center A, etc.\n",
    "        Vmat[0,1] += \n",
    "        Vmat[0,1] += \n",
    "        \n",
    "        # note the symmetry, the off-diagonal elements all have the same value \n",
    "        Vmat[1,0] = \n",
    "        \n",
    "        Vmat[1,1] +=\n",
    "        Vmat[1,1] += \n",
    "\n",
    "# set diagonal of Smat to one\n",
    "Smat[0,0] = \n",
    "Smat[1,1] = \n",
    "\n",
    "# create the core hamiltonian, H = T + V\n",
    "Hmat ="
   ]
  },
  {
   "cell_type": "code",
   "execution_count": null,
   "metadata": {
    "collapsed": true
   },
   "outputs": [],
   "source": [
    "# let's take a look at what Smat, Hmat, Tmat Vmat are \n",
    "print_matrix(Smat,'Smat')\n",
    "print_matrix(Hmat,'Hmat')\n",
    "print_matrix(Tmat,'Tmat')\n",
    "print_matrix(Vmat,'Vmat')"
   ]
  },
  {
   "cell_type": "markdown",
   "metadata": {},
   "source": [
    "Look at that, $S_{\\nu\\mu}$ has off diagonal elements that are between 0 and 1!"
   ]
  },
  {
   "cell_type": "markdown",
   "metadata": {},
   "source": [
    "### Two-electron integrals\n",
    "Ok, we filled up the required one electron integrals, let's do the bane of every quantum chemists' existence, the two-electron repulsion integrals. Note, in general there are ${N_{\\mathrm{bfn}}}^4$ two-electron integrals. In our case this would be $2^4 = 16$, however due to the inherent 8-fold symmetry, only 6 of these integrals are unique. Thus we only need to calculate those values and fill in the rest. \n",
    "\n",
    "Another important note, we are using chemists' notation here. Chemist' notation has an advantage of allowing the 8-fold symmetry elements to be indexed easily.  \n",
    "\n",
    "$$ \\left[ ij\\mid kl\\right] = \\left[kl\\mid ij\\right] = \\left[ji\\mid lk\\right] = \\left[lk\\mid ji\\right] $$\n",
    "$$ \\left[ji\\mid kl\\right] = \\left[lk\\mid ij\\right] = \\left[ij\\mid lk\\right]  = \\left[kl\\mid ji\\right] $$\n",
    "\n",
    "What indices do we need to use? Using these relations we can write a nice loop that figures it out. Side note, I came up with this indexing loop and it took me a (perhaps embarrassingly) long time to figure out. I have not found a resource that discusses how to program this for symmetry, most of the time for these discussions, the elements are just given."
   ]
  },
  {
   "cell_type": "code",
   "execution_count": null,
   "metadata": {
    "collapsed": true
   },
   "outputs": [],
   "source": [
    "from scipy.special import factorial, comb\n",
    "def total_uni_twoeri(n):\n",
    "    return (1/8)*n*(n + 1)*(n**2 + n + 2)\n",
    "\n",
    "n = 2\n",
    "rijindex = []\n",
    "for i in range(n):\n",
    "    for j in range(i + 1):\n",
    "        for k in range(n):\n",
    "            for l in range(k + 1):\n",
    "                ij = int(str(i) + str(j))\n",
    "                kl = int(str(k) + str(l))\n",
    "                if (ij >= kl):\n",
    "                    rijindex.append([i,j,k,l])\n",
    "    \n",
    "rijindex = array(rijindex)\n",
    "print('The {:g} unique indices found are'.format(total_uni_twoeri(n)))\n",
    "print(rijindex)"
   ]
  },
  {
   "cell_type": "code",
   "execution_count": null,
   "metadata": {
    "collapsed": true
   },
   "outputs": [],
   "source": [
    "# here we fill up the two-electron integrals\n",
    "Vee = zeros((nel,nel,nel,nel))\n",
    "# this is a very specific way to generate this it is not in the least sense generalized \n",
    "for i in range(0, N):\n",
    "    for j in range(0, N):\n",
    "        for k in range(0, N):\n",
    "            for l in range(0, N):\n",
    "                RAP = \n",
    "                RBP = \n",
    "                RAQ = \n",
    "                RBQ = \n",
    "                RPQ = \n",
    "                Vee[0,0,0,0] +=\n",
    "                Vee[1,0,0,0] +=\n",
    "                Vee[1,0,1,0] +=\n",
    "                Vee[1,1,0,0] +=\n",
    "                Vee[1,1,1,0] +=\n",
    "                Vee[1,1,1,1] +=\n",
    "\n",
    "# we take the least generalized way to fill the rest of the two electron integrals\n",
    "# using the symmetry relationships \n",
    "Vee[0,1,0,0] = Vee[1,0,0,0] \n",
    "Vee[0,0,1,0] = Vee[1,0,0,0] \n",
    "Vee[0,0,0,1] = Vee[1,0,0,0]\n",
    "Vee[0,1,1,0] = Vee[1,0,1,0]\n",
    "Vee[1,0,0,1] = Vee[1,0,1,0]\n",
    "Vee[0,1,0,1] = Vee[1,0,1,0]\n",
    "Vee[0,0,1,1] = Vee[1,1,0,0]\n",
    "Vee[1,1,0,1] = Vee[1,1,1,0]\n",
    "Vee[1,0,1,1] = Vee[1,1,1,0]\n",
    "Vee[0,1,1,1] = Vee[1,1,1,0]"
   ]
  },
  {
   "cell_type": "code",
   "execution_count": null,
   "metadata": {
    "collapsed": true
   },
   "outputs": [],
   "source": [
    "print('0 0 0 0  {: 15.10f}'.format(Vee[0,0,0,0]))\n",
    "print('1 0 0 0  {: 15.10f}'.format(Vee[1,0,0,0]))\n",
    "print('1 0 1 0  {: 15.10f}'.format(Vee[1,0,1,0]))\n",
    "print('1 1 0 0  {: 15.10f}'.format(Vee[1,1,0,0]))\n",
    "print('1 1 1 0  {: 15.10f}'.format(Vee[1,1,1,0]))\n",
    "print('1 1 1 1  {: 15.10f}'.format(Vee[1,1,1,1]))"
   ]
  },
  {
   "cell_type": "markdown",
   "metadata": {},
   "source": [
    "## Othogonalization\n",
    "Like I said the orbitals in Hartree-Fock are not orthonormal to begin with, so we must make them orthonormal. I'll show case both schemes. "
   ]
  },
  {
   "cell_type": "markdown",
   "metadata": {},
   "source": [
    "### Canonical\n",
    "\n",
    "We will first set up the transformation matrix in the scheme of canonical orthogonalization and create our orthonormalizer $X$. this can be acheived in two ways, the following way works for $2\\times 2$ matrices\n",
    "and this is how its done in Szabo & Ostlund "
   ]
  },
  {
   "cell_type": "code",
   "execution_count": null,
   "metadata": {
    "collapsed": true
   },
   "outputs": [],
   "source": [
    "X  = zeros((nel, nel))\n",
    "X[0,0] =  1.0/sqrt(2*(1.0 + Smat[0,1]))\n",
    "X[1,0] =  X[0,0]\n",
    "X[0,1] =  1.0/sqrt(2*(1.0 - Smat[0,1]))\n",
    "X[1,1] = -X[0,1]\n",
    "\n",
    "# transpose of X\n",
    "XT = X.T"
   ]
  },
  {
   "cell_type": "code",
   "execution_count": null,
   "metadata": {
    "collapsed": true
   },
   "outputs": [],
   "source": [
    "print_matrix(X, 'X')"
   ]
  },
  {
   "cell_type": "markdown",
   "metadata": {},
   "source": [
    "Let's check to see if it is orthonormal, else we're SOL"
   ]
  },
  {
   "cell_type": "code",
   "execution_count": null,
   "metadata": {
    "collapsed": true
   },
   "outputs": [],
   "source": [
    "check_ortho = \n",
    "print_matrix(check_ortho, \"orthonormal?\")"
   ]
  },
  {
   "cell_type": "markdown",
   "metadata": {},
   "source": [
    "It is awesome!!!\n",
    "\n",
    "Now, what would happen if we wanted to generalize this guy, for cases when we didn't always have only two electrons?\n",
    "We can follow the matrix algebra and create a more generalized routine. For this we invoke the `eigh` function of numpy/scipy (calls `dsyev`)"
   ]
  },
  {
   "cell_type": "code",
   "execution_count": null,
   "metadata": {
    "collapsed": true
   },
   "outputs": [],
   "source": [
    "# u is the eigenvalues and V is the eigenvectors\n",
    "u, V = eigh(Smat)\n",
    "u = 1/sqrt(u)\n",
    "X = V*u\n",
    "\n",
    "XT = X.T"
   ]
  },
  {
   "cell_type": "code",
   "execution_count": null,
   "metadata": {
    "collapsed": true
   },
   "outputs": [],
   "source": [
    "print_matrix(X, 'X')"
   ]
  },
  {
   "cell_type": "markdown",
   "metadata": {},
   "source": [
    "Hmm, why is it backwards? It has to do with the eigh function (wrapper to dysev), but I'm not totally sure why it does it that way, Inga might have a good guess, regardless it will still work, as we will see below."
   ]
  },
  {
   "cell_type": "code",
   "execution_count": null,
   "metadata": {
    "collapsed": true
   },
   "outputs": [],
   "source": [
    "check_ortho = \n",
    "print_matrix(check_ortho, \"orthonormal?\")"
   ]
  },
  {
   "cell_type": "markdown",
   "metadata": {},
   "source": [
    "### Symmetric\n",
    "Ok, the second method, symmetric orthogonalization, it is constructed in a similar way to canonical orthoganlization with slight variations with respect to matrix-vector operations and has an additional step. Here it is,"
   ]
  },
  {
   "cell_type": "code",
   "execution_count": null,
   "metadata": {
    "collapsed": true
   },
   "outputs": [],
   "source": [
    "u, V = eigh(Smat)\n",
    "# first we convert the eigenvalues from a 1D vector to a matrix \n",
    "U = sqrt(inv(u*eye(len(u))))\n",
    "# from this we construct it as V * U * V^t \n",
    "A = dot(V, dot(U, V.T))\n",
    "\n",
    "AT = A\n",
    "print(\"Symmetric orthogonalization matrix\")\n",
    "print_matrix(A, 'A')\n",
    "check_ortho = dot(AT, dot(Smat, A))\n",
    "print_matrix(check_ortho, \"orthonormal?\")"
   ]
  },
  {
   "cell_type": "code",
   "execution_count": null,
   "metadata": {
    "collapsed": true
   },
   "outputs": [],
   "source": [
    "# we can be even more clever/lazer and use more built in routines \n",
    "from scipy.linalg import fractional_matrix_power\n",
    "A = fractional_matrix_power(Smat, -0.5)\n",
    "# This isn't necessary, do you know why?\n",
    "AT = A.T \n",
    "print_matrix(A, 'A')\n",
    "check_ortho = dot(A.T, dot(Smat, A))\n",
    "print_matrix(check_ortho, \"orthonormal?\")"
   ]
  },
  {
   "cell_type": "markdown",
   "metadata": {},
   "source": [
    "Awesome, we now have two orthogonalizers, let's first start with canonical and proceed to the actual SCF cycle"
   ]
  },
  {
   "cell_type": "markdown",
   "metadata": {},
   "source": [
    "## Self-Consistent Field\n",
    "\n",
    "Let's now write our SCF iterations according to the following procedure:\n",
    "\n",
    "#### SCF Iteration\n",
    "for scf_iter in range MaxIt, do:\n",
    "1. Build Fock matrix\n",
    "    - Build the $\\mathbf{G}$ matrix from the Coulomb and Exchange terms\n",
    "    - Form the Fock matrix $\\mathbf{F}$\n",
    "2. RHF Energy\n",
    "    - Compute electronic RHF energy\n",
    "    - Compute total RHF energy \n",
    "3. Compute new orbital guess\n",
    "    - Transform Fock matrix to orthonormal AO basis with $\\mathbf{X}$    \n",
    "    - Diagonalize $\\mathbf{F}'$ for $\\varepsilon$ and $\\mathbf{C}'$     \n",
    "    - Back transform $\\mathbf{C}'$ to AO basis    \n",
    "    - Form $\\mathbf{P}$ from occupied orbital slice of $\\mathbf{C}$ \n",
    "4. Check change in density matrix\n",
    "    - Compare the change in $\\mathbf{P}$ from the prior run\n",
    "    - If threshold is reached exit loop\n",
    "    - Else keep going \n"
   ]
  },
  {
   "cell_type": "code",
   "execution_count": null,
   "metadata": {
    "collapsed": true
   },
   "outputs": [],
   "source": [
    "# Here we set our convergence criteria and max iterations\n",
    "Crit = 1.0e-4\n",
    "MaxIt = 25\n",
    "\n",
    "# this is our initial guess of the density matrix -> a bunch of zeros\n",
    "P = zeros((nel,nel))\n",
    "\n",
    "# open the output file for writing \n",
    "f = open('HeH+_scf.out', 'w')\n",
    "    \n",
    "# print out the initial density matrix to the outfile \n",
    "print_matrix(P, 'P matrix', print_file=f)\n",
    "\n",
    "# go through the iterations \n",
    "for scf_iter in range(MaxIt):\n",
    "    \n",
    "    # create the G matrix from the density matrix P\n",
    "    # G = 2J - K\n",
    "    \n",
    "    G = \n",
    "    # set up fock matrix as the hamiltonian plus the G matrix\n",
    "    # F = H + G\n",
    "    F = ... \n",
    "\n",
    "    # compute the electronic energy \n",
    "    E = \n",
    "    \n",
    "    # Total energy = electronic energy + nuclear repulsion energy\n",
    "    ET =\n",
    "    \n",
    "\n",
    "    # Get F' = X^T * F * X\n",
    "    Fprime = \n",
    "    \n",
    "    # C' is the matrix of eigenvectors from the diagonalization, epsilon is the matrix of eigenvalues\n",
    "    epsilon, Cprime =\n",
    "    \n",
    "    # Get C = X * C' \n",
    "    C = \n",
    "\n",
    "    # copy the density matrix from the previous iteration\n",
    "    oldP = P.copy()\n",
    "    \n",
    "    # reset the current density matrix to zero and compute the new one\n",
    "    P[:,:] = \n",
    "    for i in range(nel):\n",
    "        for j in range(nel):\n",
    "            P[i,j] += \n",
    "\n",
    "    # see how much the new density matrix has changed from the previous one\n",
    "    delta = sqrt(sum((P - oldP)**2)/4)\n",
    "    \n",
    "    print('SCF Iteration {:2d}: Energy = {: 4.12f} dP = {: 1.5e}'.format(scf_iter + 1, ET, delta))\n",
    "    \n",
    "    # print stuff to file\n",
    "    verbose_iter_print(f)\n",
    "    \n",
    "    # check the convergence criteria, if delta reaches the threshold the loop will exit, else it continues\n",
    "    if delta <= Crit:\n",
    "        break\n",
    "\n",
    "# the loop has exited, determine why\n",
    "\n",
    "# if delta is above threshold and max iterations are reached -> convergence failed\n",
    "if delta > Crit and scf_iter == MaxIt:\n",
    "    print_error_quit()\n",
    "\n",
    "# if not -> convergence succeeded!! \n",
    "else:\n",
    "    print_convergence_success(epsilon)\n",
    "    \n",
    "# close the file\n",
    "f.close()\n",
    "\n",
    "canon_energy = ET\n",
    "# print the energies to the screen \n",
    "print('Electronic Energy  = {: .12f}'.format(E))\n",
    "print('Total Energy       = {: .12f}'.format(ET))"
   ]
  },
  {
   "cell_type": "markdown",
   "metadata": {
    "collapsed": true
   },
   "source": [
    "Let's take a look inside the out put file. \n",
    "\n"
   ]
  },
  {
   "cell_type": "code",
   "execution_count": null,
   "metadata": {
    "collapsed": true,
    "scrolled": false
   },
   "outputs": [],
   "source": [
    "# uncomment and run cell, there will be a lot \n",
    "results = open('HeH+_scf.out','r')\n",
    "for j in results.readlines():\n",
    "    print(j)\n",
    "results.close()"
   ]
  },
  {
   "cell_type": "markdown",
   "metadata": {},
   "source": [
    "## Properties \n",
    "Ok, now let take a look at what else we can obtain from scf output\n",
    "\n",
    "### Charge population\n",
    "\n",
    "$P$ is the density matrix, so it must obviously relate to the electron population via the electron density\n",
    "\n",
    "\n",
    "Our final $P$ and the $S$ overlap can give us what is known as the Muliken population. We simply take the dot product of the two, though do note I formulated the equations in a slightly different way than S&O, so we need to multipy our density matrix by two to get the correct values. The reason I did this is so when we do the unrestricted hartree-fock code, it will look virtually the same, execpt have an alpha and beta part, but more on that in the next session. "
   ]
  },
  {
   "cell_type": "code",
   "execution_count": null,
   "metadata": {
    "collapsed": true
   },
   "outputs": [],
   "source": [
    "mp = \n",
    "mp.diagonal()"
   ]
  },
  {
   "cell_type": "markdown",
   "metadata": {
    "collapsed": true
   },
   "source": [
    "Looking specifically at the diagonal elements of this matrix, we see the values 1.53 and 0.470 (hopefully). These are representitive of the respective electron 'charges' on the He and H atom. Note: finding the specific 'charge' on an atom is not straightforward as the electrons are not static, this gives an idea of where the electrons spend more of their time. Also, Muliken population is a very poor analysis method, and is very basis set dependent, it notable predicts positive charges for oxygen in specific situations (again see Szabo and Ostlund for a more in depth discussion) "
   ]
  },
  {
   "cell_type": "markdown",
   "metadata": {},
   "source": [
    "### Orbital occupation\n",
    "\n",
    "Our final wavefunction is given as the $C$ matrix, and the orbital energies are defined as the eigenvalues obtained from this matrix.  "
   ]
  },
  {
   "cell_type": "code",
   "execution_count": null,
   "metadata": {
    "collapsed": true
   },
   "outputs": [],
   "source": [
    "print_matrix(C, 'wavefunction')"
   ]
  },
  {
   "cell_type": "markdown",
   "metadata": {},
   "source": [
    "$C$ is a $2\\times2$ matrix, where the first column represents the fractions of the initial wavefunctions given to form the first molecular orbital, since only one orbital is occupied, the second column represents the virtual (unoccupied) orbital. \n",
    "\n",
    "$$ C = \\left[\\begin{matrix} \n",
    "a_1 \\phi_{\\text{He}}^a & a_2 \\phi_{\\text{He}}^a \\\\ \n",
    "b_1 \\phi_{\\text{H}}^b & b_2 \\phi_{\\text{H}}^b \\end{matrix} \\right] $$\n",
    "\n",
    "Looking at the sign we can tell the type of overlap the MO's are exhibiting\n",
    "\n",
    "Note, in S&O, their wave function is the negative of the one I get, this is due to the orthogonalizer being backwards. If we go back and use the other way, we end up with their results, but it actually doesn't really matter, since the signs are arbitrary\n",
    "\n",
    "$\\psi_1 = -0.801924\\phi_1 + -0.336792\\phi_2 \\rightarrow $  bonding\n",
    "\n",
    "$\\psi_2 = -0.782259\\phi_1 + 1.068448\\phi_2 \\rightarrow $  anti-bonding\n"
   ]
  },
  {
   "cell_type": "markdown",
   "metadata": {},
   "source": [
    "The epsilon variable is the energies of each orbital "
   ]
  },
  {
   "cell_type": "code",
   "execution_count": null,
   "metadata": {
    "collapsed": true
   },
   "outputs": [],
   "source": [
    "epsilon"
   ]
  },
  {
   "cell_type": "markdown",
   "metadata": {},
   "source": [
    "Of which we care only about the diagonal"
   ]
  },
  {
   "cell_type": "code",
   "execution_count": null,
   "metadata": {
    "collapsed": true
   },
   "outputs": [],
   "source": [
    "orbital_evals = epsilon.diagonal()\n",
    "orbital_evals"
   ]
  },
  {
   "cell_type": "markdown",
   "metadata": {},
   "source": [
    "We can use Koopman's theorem to determine the ionization potentials and electron affinities!"
   ]
  },
  {
   "cell_type": "code",
   "execution_count": null,
   "metadata": {
    "collapsed": true
   },
   "outputs": [],
   "source": [
    "IP = -orbital_evals[0]*au2eV\n",
    "print('IP = {:.3f} eV'.format(IP))"
   ]
  },
  {
   "cell_type": "code",
   "execution_count": null,
   "metadata": {
    "collapsed": true
   },
   "outputs": [],
   "source": [
    "EA = -orbital_evals[1]*au2eV\n",
    "print('EA = {:.3f} eV'.format(EA))"
   ]
  },
  {
   "cell_type": "markdown",
   "metadata": {},
   "source": [
    "Ok, cool, now let's try to generalize the scf code a bit"
   ]
  },
  {
   "cell_type": "code",
   "execution_count": null,
   "metadata": {
    "collapsed": true
   },
   "outputs": [],
   "source": [
    "# lets put the diagonalization all into one routine \n",
    "def diag_F(F, ndocc, orthog='canonical'):\n",
    "    \n",
    "    if orthog == 'canonical':\n",
    "        O = X\n",
    "    elif orthog == 'symmetric':\n",
    "        O = A\n",
    "\n",
    "    Fp = dot(O.T, dot(F, O))\n",
    "    \n",
    "#   e, Cp = diag(Fp)\n",
    "    # use dsyev instead of our 2x2 routine \n",
    "    e, Cp = eigh(Fp)\n",
    "    \n",
    "    C = dot(O, Cp)\n",
    "    # occupied slice, C[:,:1] = C[:,0] (again screwy C index convention)\n",
    "    C_occ = C[:,:ndocc]\n",
    "    \n",
    "    # einstein summation notation!\n",
    "    # don't get too freaked out, this is equivalent to the previous loop we saw \n",
    "    P = einsum('ik,jk->ij', C_occ, C_occ)\n",
    "\n",
    "    return (C, P, e)"
   ]
  },
  {
   "cell_type": "code",
   "execution_count": null,
   "metadata": {
    "collapsed": true
   },
   "outputs": [],
   "source": [
    "# convergence criteria and max iterations\n",
    "Crit = 1.0e-4\n",
    "MaxIt = 25\n",
    "\n",
    "# how many orbitals are occupied? -> 1, because this is rhf and we have only 2 electrons\n",
    "nocc = 1\n",
    "\n",
    "# note, we start with P as all zeros, so in iteration 1, F = Hmat\n",
    "# so why not just start our guess as the diag_F of Hmat\n",
    "C, P, epsilon = diag_F(Hmat, nocc, orthog='symmetric')\n",
    "\n",
    "f = open('HeH+.sym.scf.out', 'w')\n",
    "\n",
    "print_matrix(P, 'P matrix', print_file=f)\n",
    "\n",
    "for scf_iter in range(MaxIt):\n",
    "    \n",
    "    F = Hmat + formG(P)\n",
    "\n",
    "    ET = sum(P*(Hmat + F)) + E_nuc \n",
    "\n",
    "    oldP = P.copy()\n",
    "    \n",
    "    # we'll try symmetric ortho this time\n",
    "    C, P, epsilon = diag_F(F, nocc, orthog='symmetric')\n",
    "    \n",
    "    delta = sqrt(sum((P - oldP)**2)/4)\n",
    "    \n",
    "    verbose_iter_print(f)\n",
    "    \n",
    "    print('SCF Iteration {:2d}: Energy = {: 4.12f} dP = {: 1.5e}'.format(scf_iter + 1, ET, delta))\n",
    "    \n",
    "    if delta <= Crit:\n",
    "        break\n",
    "\n",
    "if delta > Crit and scf_iter == MaxIt:\n",
    "    print_error_quit()\n",
    "\n",
    "else:\n",
    "    print_convergence_success(epsilon, orthog='symmetric')\n",
    "\n",
    "f.close()\n",
    "\n",
    "# print the energies to the screen \n",
    "symm_energy = ET\n",
    "print('Electronic Energy  = {: .12f}'.format(E))\n",
    "print('Total Energy       = {: .12f}'.format(ET))"
   ]
  },
  {
   "cell_type": "markdown",
   "metadata": {},
   "source": [
    "We should make sure the energy values agree, we'll use the numpy function `allclose` which compares values within a given threshold"
   ]
  },
  {
   "cell_type": "code",
   "execution_count": null,
   "metadata": {
    "collapsed": true
   },
   "outputs": [],
   "source": [
    "allclose(canon_energy, symm_energy)"
   ]
  },
  {
   "cell_type": "markdown",
   "metadata": {},
   "source": [
    "They're the same!!!!!!!!!!!!!!!!!!!!!!!!!!!"
   ]
  },
  {
   "cell_type": "markdown",
   "metadata": {},
   "source": [
    "Later we will visualize this with a molden file! And if you are deathly curious, some other time I can show you how one goes about actually creating an isosurface and rendering. But I highly doubt anyone will be, no one likes the fun things."
   ]
  },
  {
   "cell_type": "markdown",
   "metadata": {},
   "source": [
    "## DIIS \n",
    "Direct inversion of the iterative subspace or the Pulay equation \n",
    "\n",
    "Ever wonder what that diis stuff is all about? Regardless of your answer, you're going to find out\n",
    "We'll first write a function that performs the DIIS extrapolation to generate a new solution vector.\n",
    "\n",
    "Recall the steps for the DIIS-accelerated algorithm\n",
    "#### DIIS within a generic SCF Iteration\n",
    "1. Compute $\\mathbf{F}$, append to list of previous trial vectors\n",
    "2. Compute AO orbital gradient$\\mathbf{r}$, append to list of previous residual vectors\n",
    "3. Compute UHF/RHF energy\n",
    "3. Check convergence criteria\n",
    "    - If RMSD of **r** sufficiently small, and\n",
    "    - If change in SCF energy sufficiently small, break\n",
    "4. Build $\\mathbf{B}$ matrix from previous AO gradient vectors\n",
    "5. Solve Pulay equation for coefficients $\\{c_i\\}$\n",
    "6. Compute DIIS solution vector `F_diis` from $\\{c_i\\}$ and previous trial vectors\n",
    "7. Compute new orbital guess with `F_diis`\n",
    "\n",
    "In our function, we will perform steps 4-6 of the above algorithm.  What information will we need to provide our function in order to do so?  To build $\\mathbf{B}$ (step 4 above) in the previous tutorial, we used:\n",
    "~~~python\n",
    "# Build B matrix\n",
    "B_dim = len(F_list) + 1\n",
    "B = empty((B_dim, B_dim))\n",
    "B[-1,:] = -1\n",
    "B[:, -1] = -1\n",
    "B[-1, -1] = 0\n",
    "for i in range(len(F_list)):\n",
    "    for j in range(len(F_list)):\n",
    "        B[i,j] = sum(diis_resid[i]*diis_resid[j])\n",
    "~~~\n",
    "We must have all previous DIIS residual vectors (`diis_resid`), as well how many previous trial vectors there are (for the dimension of $\\mathbf{B}$).  To solve the Pulay equation (step 5 above):\n",
    "~~~python\n",
    "# Build RHS of Pulay equation \n",
    "rhs = zeros((B_dim))\n",
    "rhs[-1] = -1 \n",
    "      \n",
    "# Solve Pulay equation for c_i's with NumPy\n",
    "coeff = linalg.solve(B, rhs)\n",
    "~~~\n",
    "For this step, we only need the dimension of $\\mathbf{B}$ (which we computed in step 4 above) and the `linalg.solve` routine from numpy/scipy, so this step doesn't require any additional arguments.  Finally, to build the DIIS Fock matrix (step 6):\n",
    "~~~python\n",
    "# Build DIIS Fock matrix\n",
    "F_diis = zeros_like(F_list[0])\n",
    "for ix in range(coeff.shape[0] - 1):\n",
    "    F_diis += coeff[ix]*F_list[ix]\n",
    "return F_diis\n",
    "~~~\n",
    "For this step, we need to know all the previous trial vectors (`F_list`) and the coefficients generated in the previous step. In the cell below, we'll write a funciton `diis_extrap()` according to the diis procedure, steps 4-6, with the above code snippets. We are essentially taking a previous list of trial vectors, `F_list` and residual vectors `diis_resid`and returning the new DIIS solution vector `F_diis`. "
   ]
  },
  {
   "cell_type": "code",
   "execution_count": null,
   "metadata": {
    "collapsed": true
   },
   "outputs": [],
   "source": [
    "def diis_extrap(F_list, diis_resid):\n",
    "\n",
    "    \n",
    "    return F_diis"
   ]
  },
  {
   "cell_type": "markdown",
   "metadata": {},
   "source": [
    "Now, let's throw this into our SCF routine, and see what it is cabable of. Let's also define some additional convergence criteria as well, based on the change in energy and our DIIS vector. "
   ]
  },
  {
   "cell_type": "code",
   "execution_count": null,
   "metadata": {
    "collapsed": true
   },
   "outputs": [],
   "source": [
    "MaxIt = 25\n",
    "\n",
    "# convergence of the dRMS\n",
    "D_conv = 1.0e-3\n",
    "# convergence of the energy \n",
    "E_conv = 1.0e-5\n",
    "\n",
    "E_old = 0.0 \n",
    "# create empty lists for the diis \n",
    "F_list = []\n",
    "R_list = [] \n",
    "diis_resid = [] \n",
    "\n",
    "nocc = 1\n",
    "C, P, epsilon = diag_F(Hmat, nocc)\n",
    "\n",
    "for scf_iter in range(MaxIt):\n",
    "    \n",
    "    F = Hmat + formG(P)\n",
    "    # form this intermediate M for the sake of readability\n",
    "    M = \n",
    "    diis_r = \n",
    "    \n",
    "    # append F and diis_r to lists\n",
    "    F_list.append(F)\n",
    "    R_list.append(diis_r)\n",
    "    \n",
    "    ET = sum(P*(Hmat + F)) + E_nuc\n",
    "\n",
    "    C, P, epsilon = diag_F(F, nocc)\n",
    "    \n",
    "    if scf_iter >= 2:\n",
    "        F = diis_extrap(F_list, R_list)\n",
    "        \n",
    "    dE = ET - E_old\n",
    "    dRMS = sqrt(mean(diis_r**2))\n",
    "    \n",
    "    print('SCF Iteration {:2d}: Energy = {: 4.12f} dE = {: 1.5e} dRMS = {:1.5e}'.format(scf_iter+1, ET, dE, dRMS))\n",
    "    \n",
    "    if (abs(dE) < E_conv) and (dRMS < D_conv):\n",
    "        break\n",
    "    \n",
    "    E_old = ET\n",
    "\n",
    "# print the energies to the screen \n",
    "diis_energy = ET\n",
    "print('\\nTotal SCF Energy   = {: .12f}'.format(ET))"
   ]
  },
  {
   "cell_type": "markdown",
   "metadata": {},
   "source": [
    "Check to see if this result is the same as the previous"
   ]
  },
  {
   "cell_type": "code",
   "execution_count": null,
   "metadata": {
    "collapsed": true
   },
   "outputs": [],
   "source": [
    "allclose(diis_energy, canon_energy)"
   ]
  },
  {
   "cell_type": "markdown",
   "metadata": {},
   "source": [
    "Wow! We saved 0 steps! The savings are not yet evident, this is after all a two electron system. But trust me, and trust literature too, diis helps. \n",
    "\n",
    "If things failed catastrophically for you, here is the notebook [link](./aux/LetsCodeHartreeFock_InstrVer.ipynb) for the compeleted version. "
   ]
  },
  {
   "cell_type": "markdown",
   "metadata": {},
   "source": [
    "## Things to do: \n",
    "### Before next session!\n",
    "1. Make a general scf function that can accept different parameters, i.e. $R$ values, $Z$ values, etc. \n",
    "1. Then make a loop that goes through a series of bond distances,\n",
    "    - graph the energy curve \n",
    "    - find the minimal bond distance predicted by the STO-3G\n",
    "    - look at the dissociation curve\n",
    "1. Try the same for H2\n",
    "  \n",
    "### Anytime to gain a deeper understanding\n",
    "1. Reading S&O figure out how to calculate the dipole moment!\n",
    "1. Using this as a base, create a CIS code"
   ]
  },
  {
   "cell_type": "markdown",
   "metadata": {},
   "source": [
    "## Next Session\n",
    "We will use Psi4 to generate our integrals and investiage larger systems with our SCF routine! \n",
    "* Also to get a better grip of the einsum function, look at the following equivalent ways of constructing the G matrix "
   ]
  },
  {
   "cell_type": "code",
   "execution_count": null,
   "metadata": {
    "collapsed": true
   },
   "outputs": [],
   "source": [
    "# einstein summation notation!!\n",
    "def formG(P):\n",
    "    g = zeros((2,2))\n",
    "    for i in range(2):\n",
    "        for j in range(2):\n",
    "            for k in range(2):\n",
    "                for l in range(2):    \n",
    "                    g[i,j] += 2*Vee[i,j,k,l]*P[k,l]\n",
    "                    g[i,j] -= Vee[i,k,j,l]*P[k,l]\n",
    "    return g\n",
    "\n",
    "\n",
    "\n",
    "def formG2(P):\n",
    "    J = einsum('ijkl,kl->ij', Vee, P, optimize=True)\n",
    "    K = einsum('ikjl,kl->ij', Vee, P, optimize=True)\n",
    "    G = 2*J - K\n",
    "    return G\n",
    "\n",
    "allclose(formG(P), formG2(P))"
   ]
  },
  {
   "cell_type": "markdown",
   "metadata": {
    "collapsed": true
   },
   "source": [
    "We can interpret einsum as for the indices `i,j,k,l` of `Vee` multiply by the indices of `k,l` of `P` and sum along the indices `i,j` from `g`\n",
    "\n",
    "That is essentially from a four index tensor, create a two index tensor \n"
   ]
  }
 ],
 "metadata": {
  "anaconda-cloud": {},
  "kernelspec": {
   "display_name": "Python 3",
   "language": "python",
   "name": "python3"
  },
  "language_info": {
   "codemirror_mode": {
    "name": "ipython",
    "version": 3
   },
   "file_extension": ".py",
   "mimetype": "text/x-python",
   "name": "python",
   "nbconvert_exporter": "python",
   "pygments_lexer": "ipython3",
   "version": "3.6.5"
  }
 },
 "nbformat": 4,
 "nbformat_minor": 1
}
